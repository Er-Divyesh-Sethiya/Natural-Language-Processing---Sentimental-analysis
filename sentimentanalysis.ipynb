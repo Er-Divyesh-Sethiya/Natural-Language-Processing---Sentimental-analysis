{
 "cells": [
  {
   "cell_type": "markdown",
   "id": "95b0186d",
   "metadata": {},
   "source": [
    "# Read the data"
   ]
  },
  {
   "cell_type": "code",
   "execution_count": 1,
   "id": "c987dc21",
   "metadata": {
    "scrolled": true
   },
   "outputs": [
    {
     "data": {
      "text/html": [
       "<div>\n",
       "<style scoped>\n",
       "    .dataframe tbody tr th:only-of-type {\n",
       "        vertical-align: middle;\n",
       "    }\n",
       "\n",
       "    .dataframe tbody tr th {\n",
       "        vertical-align: top;\n",
       "    }\n",
       "\n",
       "    .dataframe thead th {\n",
       "        text-align: right;\n",
       "    }\n",
       "</style>\n",
       "<table border=\"1\" class=\"dataframe\">\n",
       "  <thead>\n",
       "    <tr style=\"text-align: right;\">\n",
       "      <th></th>\n",
       "      <th>Reviews</th>\n",
       "    </tr>\n",
       "  </thead>\n",
       "  <tbody>\n",
       "    <tr>\n",
       "      <th>0</th>\n",
       "      <td>Really impressed with the fastest delivery of ...</td>\n",
       "    </tr>\n",
       "    <tr>\n",
       "      <th>1</th>\n",
       "      <td>This is the second time I am writing this revi...</td>\n",
       "    </tr>\n",
       "    <tr>\n",
       "      <th>2</th>\n",
       "      <td>1. Quite good look2. Better noise cancellation...</td>\n",
       "    </tr>\n",
       "    <tr>\n",
       "      <th>3</th>\n",
       "      <td>its a good set of ear buds but1. the quality o...</td>\n",
       "    </tr>\n",
       "    <tr>\n",
       "      <th>4</th>\n",
       "      <td>I have been researching about getting a nice T...</td>\n",
       "    </tr>\n",
       "    <tr>\n",
       "      <th>...</th>\n",
       "      <td>...</td>\n",
       "    </tr>\n",
       "    <tr>\n",
       "      <th>3645</th>\n",
       "      <td>The product of Boat is too good but Total disa...</td>\n",
       "    </tr>\n",
       "    <tr>\n",
       "      <th>3646</th>\n",
       "      <td>I find too much of Bass kills the sound of oth...</td>\n",
       "    </tr>\n",
       "    <tr>\n",
       "      <th>3647</th>\n",
       "      <td>Sound and bass quality is goodBut not proper w...</td>\n",
       "    </tr>\n",
       "    <tr>\n",
       "      <th>3648</th>\n",
       "      <td>Awesome product delivered by Amazon and Boat. ...</td>\n",
       "    </tr>\n",
       "    <tr>\n",
       "      <th>3649</th>\n",
       "      <td>yes, but some objects are nice to use and some...</td>\n",
       "    </tr>\n",
       "  </tbody>\n",
       "</table>\n",
       "<p>3650 rows × 1 columns</p>\n",
       "</div>"
      ],
      "text/plain": [
       "                                                Reviews\n",
       "0     Really impressed with the fastest delivery of ...\n",
       "1     This is the second time I am writing this revi...\n",
       "2     1. Quite good look2. Better noise cancellation...\n",
       "3     its a good set of ear buds but1. the quality o...\n",
       "4     I have been researching about getting a nice T...\n",
       "...                                                 ...\n",
       "3645  The product of Boat is too good but Total disa...\n",
       "3646  I find too much of Bass kills the sound of oth...\n",
       "3647  Sound and bass quality is goodBut not proper w...\n",
       "3648  Awesome product delivered by Amazon and Boat. ...\n",
       "3649  yes, but some objects are nice to use and some...\n",
       "\n",
       "[3650 rows x 1 columns]"
      ]
     },
     "execution_count": 1,
     "metadata": {},
     "output_type": "execute_result"
    }
   ],
   "source": [
    "import pandas as pd\n",
    "\n",
    "product_reviews = pd.read_csv('product_review.csv')\n",
    "product_reviews"
   ]
  },
  {
   "cell_type": "code",
   "execution_count": 2,
   "id": "fd9036a1",
   "metadata": {},
   "outputs": [
    {
     "data": {
      "text/plain": [
       "0       False\n",
       "1       False\n",
       "2       False\n",
       "3       False\n",
       "4       False\n",
       "        ...  \n",
       "3645    False\n",
       "3646    False\n",
       "3647    False\n",
       "3648    False\n",
       "3649    False\n",
       "Length: 3650, dtype: bool"
      ]
     },
     "execution_count": 2,
     "metadata": {},
     "output_type": "execute_result"
    }
   ],
   "source": [
    "product_reviews.duplicated()"
   ]
  },
  {
   "cell_type": "code",
   "execution_count": 3,
   "id": "78b5f4df",
   "metadata": {},
   "outputs": [],
   "source": [
    "product_reviews.to_csv('product_review1.csv', index = False)"
   ]
  },
  {
   "cell_type": "code",
   "execution_count": 4,
   "id": "8becdcbb",
   "metadata": {},
   "outputs": [
    {
     "data": {
      "text/plain": [
       "Reviews    0\n",
       "dtype: int64"
      ]
     },
     "execution_count": 4,
     "metadata": {},
     "output_type": "execute_result"
    }
   ],
   "source": [
    "product_reviews.isnull().sum()"
   ]
  },
  {
   "cell_type": "code",
   "execution_count": 5,
   "id": "b0188ffb",
   "metadata": {},
   "outputs": [
    {
     "data": {
      "text/plain": [
       "Reviews    object\n",
       "dtype: object"
      ]
     },
     "execution_count": 5,
     "metadata": {},
     "output_type": "execute_result"
    }
   ],
   "source": [
    "product_reviews.dtypes"
   ]
  },
  {
   "cell_type": "code",
   "execution_count": 6,
   "id": "e13f1ef6",
   "metadata": {},
   "outputs": [
    {
     "data": {
      "text/html": [
       "<div>\n",
       "<style scoped>\n",
       "    .dataframe tbody tr th:only-of-type {\n",
       "        vertical-align: middle;\n",
       "    }\n",
       "\n",
       "    .dataframe tbody tr th {\n",
       "        vertical-align: top;\n",
       "    }\n",
       "\n",
       "    .dataframe thead th {\n",
       "        text-align: right;\n",
       "    }\n",
       "</style>\n",
       "<table border=\"1\" class=\"dataframe\">\n",
       "  <thead>\n",
       "    <tr style=\"text-align: right;\">\n",
       "      <th></th>\n",
       "      <th>Reviews</th>\n",
       "    </tr>\n",
       "  </thead>\n",
       "  <tbody>\n",
       "    <tr>\n",
       "      <th>0</th>\n",
       "      <td>Really impressed with the fastest delivery of ...</td>\n",
       "    </tr>\n",
       "    <tr>\n",
       "      <th>1</th>\n",
       "      <td>This is the second time I am writing this revi...</td>\n",
       "    </tr>\n",
       "    <tr>\n",
       "      <th>2</th>\n",
       "      <td>1. Quite good look2. Better noise cancellation...</td>\n",
       "    </tr>\n",
       "    <tr>\n",
       "      <th>3</th>\n",
       "      <td>its a good set of ear buds but1. the quality o...</td>\n",
       "    </tr>\n",
       "    <tr>\n",
       "      <th>4</th>\n",
       "      <td>I have been researching about getting a nice T...</td>\n",
       "    </tr>\n",
       "  </tbody>\n",
       "</table>\n",
       "</div>"
      ],
      "text/plain": [
       "                                             Reviews\n",
       "0  Really impressed with the fastest delivery of ...\n",
       "1  This is the second time I am writing this revi...\n",
       "2  1. Quite good look2. Better noise cancellation...\n",
       "3  its a good set of ear buds but1. the quality o...\n",
       "4  I have been researching about getting a nice T..."
      ]
     },
     "execution_count": 6,
     "metadata": {},
     "output_type": "execute_result"
    }
   ],
   "source": [
    "product_reviews.head(5)"
   ]
  },
  {
   "cell_type": "code",
   "execution_count": 7,
   "id": "7230b525",
   "metadata": {},
   "outputs": [
    {
     "data": {
      "text/html": [
       "<div>\n",
       "<style scoped>\n",
       "    .dataframe tbody tr th:only-of-type {\n",
       "        vertical-align: middle;\n",
       "    }\n",
       "\n",
       "    .dataframe tbody tr th {\n",
       "        vertical-align: top;\n",
       "    }\n",
       "\n",
       "    .dataframe thead th {\n",
       "        text-align: right;\n",
       "    }\n",
       "</style>\n",
       "<table border=\"1\" class=\"dataframe\">\n",
       "  <thead>\n",
       "    <tr style=\"text-align: right;\">\n",
       "      <th></th>\n",
       "      <th>Reviews</th>\n",
       "    </tr>\n",
       "  </thead>\n",
       "  <tbody>\n",
       "    <tr>\n",
       "      <th>3640</th>\n",
       "      <td>The casing is little boxy but still okay to ca...</td>\n",
       "    </tr>\n",
       "    <tr>\n",
       "      <th>3641</th>\n",
       "      <td>Worst product of my life, when i use boat aird...</td>\n",
       "    </tr>\n",
       "    <tr>\n",
       "      <th>3642</th>\n",
       "      <td>Im really disappointed as the sound quality is...</td>\n",
       "    </tr>\n",
       "    <tr>\n",
       "      <th>3643</th>\n",
       "      <td>If you want to use it for music or video it is...</td>\n",
       "    </tr>\n",
       "    <tr>\n",
       "      <th>3644</th>\n",
       "      <td>It's bad call function stops working, firstly ...</td>\n",
       "    </tr>\n",
       "    <tr>\n",
       "      <th>3645</th>\n",
       "      <td>The product of Boat is too good but Total disa...</td>\n",
       "    </tr>\n",
       "    <tr>\n",
       "      <th>3646</th>\n",
       "      <td>I find too much of Bass kills the sound of oth...</td>\n",
       "    </tr>\n",
       "    <tr>\n",
       "      <th>3647</th>\n",
       "      <td>Sound and bass quality is goodBut not proper w...</td>\n",
       "    </tr>\n",
       "    <tr>\n",
       "      <th>3648</th>\n",
       "      <td>Awesome product delivered by Amazon and Boat. ...</td>\n",
       "    </tr>\n",
       "    <tr>\n",
       "      <th>3649</th>\n",
       "      <td>yes, but some objects are nice to use and some...</td>\n",
       "    </tr>\n",
       "  </tbody>\n",
       "</table>\n",
       "</div>"
      ],
      "text/plain": [
       "                                                Reviews\n",
       "3640  The casing is little boxy but still okay to ca...\n",
       "3641  Worst product of my life, when i use boat aird...\n",
       "3642  Im really disappointed as the sound quality is...\n",
       "3643  If you want to use it for music or video it is...\n",
       "3644  It's bad call function stops working, firstly ...\n",
       "3645  The product of Boat is too good but Total disa...\n",
       "3646  I find too much of Bass kills the sound of oth...\n",
       "3647  Sound and bass quality is goodBut not proper w...\n",
       "3648  Awesome product delivered by Amazon and Boat. ...\n",
       "3649  yes, but some objects are nice to use and some..."
      ]
     },
     "execution_count": 7,
     "metadata": {},
     "output_type": "execute_result"
    }
   ],
   "source": [
    "product_reviews.tail(10)"
   ]
  },
  {
   "cell_type": "markdown",
   "id": "b34a3d94",
   "metadata": {},
   "source": [
    "# Text Wrangling and pre-processing"
   ]
  },
  {
   "cell_type": "code",
   "execution_count": 8,
   "id": "72872fee",
   "metadata": {},
   "outputs": [
    {
     "name": "stdout",
     "output_type": "stream",
     "text": [
      "Requirement already satisfied: spacy in c:\\users\\way tomorrow\\appdata\\local\\programs\\python\\python310\\lib\\site-packages (3.3.1)\n",
      "Requirement already satisfied: spacy-legacy<3.1.0,>=3.0.9 in c:\\users\\way tomorrow\\appdata\\local\\programs\\python\\python310\\lib\\site-packages (from spacy) (3.0.9)\n",
      "Requirement already satisfied: cymem<2.1.0,>=2.0.2 in c:\\users\\way tomorrow\\appdata\\local\\programs\\python\\python310\\lib\\site-packages (from spacy) (2.0.6)\n",
      "Requirement already satisfied: packaging>=20.0 in c:\\users\\way tomorrow\\appdata\\local\\programs\\python\\python310\\lib\\site-packages (from spacy) (21.3)\n",
      "Requirement already satisfied: pydantic!=1.8,!=1.8.1,<1.9.0,>=1.7.4 in c:\\users\\way tomorrow\\appdata\\local\\programs\\python\\python310\\lib\\site-packages (from spacy) (1.8.2)\n",
      "Requirement already satisfied: setuptools in c:\\users\\way tomorrow\\appdata\\local\\programs\\python\\python310\\lib\\site-packages (from spacy) (62.5.0)\n",
      "Requirement already satisfied: wasabi<1.1.0,>=0.9.1 in c:\\users\\way tomorrow\\appdata\\local\\programs\\python\\python310\\lib\\site-packages (from spacy) (0.9.1)\n",
      "Requirement already satisfied: preshed<3.1.0,>=3.0.2 in c:\\users\\way tomorrow\\appdata\\local\\programs\\python\\python310\\lib\\site-packages (from spacy) (3.0.6)\n",
      "Requirement already satisfied: catalogue<2.1.0,>=2.0.6 in c:\\users\\way tomorrow\\appdata\\local\\programs\\python\\python310\\lib\\site-packages (from spacy) (2.0.7)\n",
      "Requirement already satisfied: blis<0.8.0,>=0.4.0 in c:\\users\\way tomorrow\\appdata\\local\\programs\\python\\python310\\lib\\site-packages (from spacy) (0.7.7)\n",
      "Requirement already satisfied: requests<3.0.0,>=2.13.0 in c:\\users\\way tomorrow\\appdata\\local\\programs\\python\\python310\\lib\\site-packages (from spacy) (2.28.0)\n",
      "Requirement already satisfied: spacy-loggers<2.0.0,>=1.0.0 in c:\\users\\way tomorrow\\appdata\\local\\programs\\python\\python310\\lib\\site-packages (from spacy) (1.0.2)\n",
      "Requirement already satisfied: murmurhash<1.1.0,>=0.28.0 in c:\\users\\way tomorrow\\appdata\\local\\programs\\python\\python310\\lib\\site-packages (from spacy) (1.0.7)\n",
      "Requirement already satisfied: srsly<3.0.0,>=2.4.3 in c:\\users\\way tomorrow\\appdata\\local\\programs\\python\\python310\\lib\\site-packages (from spacy) (2.4.3)\n",
      "Requirement already satisfied: typer<0.5.0,>=0.3.0 in c:\\users\\way tomorrow\\appdata\\local\\programs\\python\\python310\\lib\\site-packages (from spacy) (0.4.1)\n",
      "Requirement already satisfied: numpy>=1.15.0 in c:\\users\\way tomorrow\\appdata\\local\\programs\\python\\python310\\lib\\site-packages (from spacy) (1.22.4)\n",
      "Requirement already satisfied: thinc<8.1.0,>=8.0.14 in c:\\users\\way tomorrow\\appdata\\local\\programs\\python\\python310\\lib\\site-packages (from spacy) (8.0.17)\n",
      "Requirement already satisfied: jinja2 in c:\\users\\way tomorrow\\appdata\\local\\programs\\python\\python310\\lib\\site-packages (from spacy) (3.1.2)\n",
      "Requirement already satisfied: langcodes<4.0.0,>=3.2.0 in c:\\users\\way tomorrow\\appdata\\local\\programs\\python\\python310\\lib\\site-packages (from spacy) (3.3.0)\n",
      "Requirement already satisfied: pathy>=0.3.5 in c:\\users\\way tomorrow\\appdata\\local\\programs\\python\\python310\\lib\\site-packages (from spacy) (0.6.1)\n",
      "Requirement already satisfied: tqdm<5.0.0,>=4.38.0 in c:\\users\\way tomorrow\\appdata\\local\\programs\\python\\python310\\lib\\site-packages (from spacy) (4.64.0)\n",
      "Requirement already satisfied: pyparsing!=3.0.5,>=2.0.2 in c:\\users\\way tomorrow\\appdata\\local\\programs\\python\\python310\\lib\\site-packages (from packaging>=20.0->spacy) (3.0.9)\n",
      "Requirement already satisfied: smart-open<6.0.0,>=5.0.0 in c:\\users\\way tomorrow\\appdata\\local\\programs\\python\\python310\\lib\\site-packages (from pathy>=0.3.5->spacy) (5.2.1)\n",
      "Requirement already satisfied: typing-extensions>=3.7.4.3 in c:\\users\\way tomorrow\\appdata\\local\\programs\\python\\python310\\lib\\site-packages (from pydantic!=1.8,!=1.8.1,<1.9.0,>=1.7.4->spacy) (4.2.0)\n",
      "Requirement already satisfied: certifi>=2017.4.17 in c:\\users\\way tomorrow\\appdata\\local\\programs\\python\\python310\\lib\\site-packages (from requests<3.0.0,>=2.13.0->spacy) (2022.5.18.1)\n",
      "Requirement already satisfied: urllib3<1.27,>=1.21.1 in c:\\users\\way tomorrow\\appdata\\local\\programs\\python\\python310\\lib\\site-packages (from requests<3.0.0,>=2.13.0->spacy) (1.26.9)\n",
      "Requirement already satisfied: idna<4,>=2.5 in c:\\users\\way tomorrow\\appdata\\local\\programs\\python\\python310\\lib\\site-packages (from requests<3.0.0,>=2.13.0->spacy) (3.3)\n",
      "Requirement already satisfied: charset-normalizer~=2.0.0 in c:\\users\\way tomorrow\\appdata\\local\\programs\\python\\python310\\lib\\site-packages (from requests<3.0.0,>=2.13.0->spacy) (2.0.12)\n",
      "Requirement already satisfied: colorama in c:\\users\\way tomorrow\\appdata\\local\\programs\\python\\python310\\lib\\site-packages (from tqdm<5.0.0,>=4.38.0->spacy) (0.4.4)\n",
      "Requirement already satisfied: click<9.0.0,>=7.1.1 in c:\\users\\way tomorrow\\appdata\\local\\programs\\python\\python310\\lib\\site-packages (from typer<0.5.0,>=0.3.0->spacy) (8.1.3)\n",
      "Requirement already satisfied: MarkupSafe>=2.0 in c:\\users\\way tomorrow\\appdata\\local\\programs\\python\\python310\\lib\\site-packages (from jinja2->spacy) (2.1.1)\n"
     ]
    }
   ],
   "source": [
    "!pip install spacy"
   ]
  },
  {
   "cell_type": "code",
   "execution_count": 10,
   "id": "521d4aa8",
   "metadata": {},
   "outputs": [
    {
     "name": "stdout",
     "output_type": "stream",
     "text": [
      "Collecting nltk\n",
      "  Downloading nltk-3.7-py3-none-any.whl (1.5 MB)\n",
      "     ---------------------------------------- 1.5/1.5 MB 407.3 kB/s eta 0:00:00\n",
      "Requirement already satisfied: tqdm in c:\\users\\way tomorrow\\appdata\\local\\programs\\python\\python310\\lib\\site-packages (from nltk) (4.64.0)\n",
      "Collecting regex>=2021.8.3\n",
      "  Downloading regex-2022.6.2-cp310-cp310-win_amd64.whl (262 kB)\n",
      "     ------------------------------------ 262.0/262.0 kB 555.8 kB/s eta 0:00:00\n",
      "Requirement already satisfied: click in c:\\users\\way tomorrow\\appdata\\local\\programs\\python\\python310\\lib\\site-packages (from nltk) (8.1.3)\n",
      "Collecting joblib\n",
      "  Downloading joblib-1.1.0-py2.py3-none-any.whl (306 kB)\n",
      "     ------------------------------------ 307.0/307.0 kB 499.5 kB/s eta 0:00:00\n",
      "Requirement already satisfied: colorama in c:\\users\\way tomorrow\\appdata\\local\\programs\\python\\python310\\lib\\site-packages (from click->nltk) (0.4.4)\n",
      "Installing collected packages: regex, joblib, nltk\n",
      "Successfully installed joblib-1.1.0 nltk-3.7 regex-2022.6.2\n"
     ]
    }
   ],
   "source": [
    "!pip install nltk"
   ]
  },
  {
   "cell_type": "code",
   "execution_count": 11,
   "id": "cb61d5e4",
   "metadata": {},
   "outputs": [],
   "source": [
    "import spacy \n",
    "import nltk\n",
    "from nltk.tokenize.toktok import ToktokTokenizer\n",
    "import re\n",
    "import unicodedata\n",
    "import requests\n",
    "from bs4 import BeautifulSoup\n",
    "import string"
   ]
  },
  {
   "cell_type": "code",
   "execution_count": 17,
   "id": "f2c05fa2",
   "metadata": {},
   "outputs": [
    {
     "name": "stdout",
     "output_type": "stream",
     "text": [
      "Collecting en-core-web-sm==3.3.0\n",
      "  Downloading https://github.com/explosion/spacy-models/releases/download/en_core_web_sm-3.3.0/en_core_web_sm-3.3.0-py3-none-any.whl (12.8 MB)\n",
      "     -------------------------------------- 12.8/12.8 MB 395.6 kB/s eta 0:00:00\n",
      "Requirement already satisfied: spacy<3.4.0,>=3.3.0.dev0 in c:\\users\\way tomorrow\\appdata\\local\\programs\\python\\python310\\lib\\site-packages (from en-core-web-sm==3.3.0) (3.3.1)\n",
      "Requirement already satisfied: spacy-legacy<3.1.0,>=3.0.9 in c:\\users\\way tomorrow\\appdata\\local\\programs\\python\\python310\\lib\\site-packages (from spacy<3.4.0,>=3.3.0.dev0->en-core-web-sm==3.3.0) (3.0.9)\n",
      "Requirement already satisfied: wasabi<1.1.0,>=0.9.1 in c:\\users\\way tomorrow\\appdata\\local\\programs\\python\\python310\\lib\\site-packages (from spacy<3.4.0,>=3.3.0.dev0->en-core-web-sm==3.3.0) (0.9.1)\n",
      "Requirement already satisfied: numpy>=1.15.0 in c:\\users\\way tomorrow\\appdata\\local\\programs\\python\\python310\\lib\\site-packages (from spacy<3.4.0,>=3.3.0.dev0->en-core-web-sm==3.3.0) (1.22.4)\n",
      "Requirement already satisfied: cymem<2.1.0,>=2.0.2 in c:\\users\\way tomorrow\\appdata\\local\\programs\\python\\python310\\lib\\site-packages (from spacy<3.4.0,>=3.3.0.dev0->en-core-web-sm==3.3.0) (2.0.6)\n",
      "Requirement already satisfied: thinc<8.1.0,>=8.0.14 in c:\\users\\way tomorrow\\appdata\\local\\programs\\python\\python310\\lib\\site-packages (from spacy<3.4.0,>=3.3.0.dev0->en-core-web-sm==3.3.0) (8.0.17)\n",
      "Requirement already satisfied: typer<0.5.0,>=0.3.0 in c:\\users\\way tomorrow\\appdata\\local\\programs\\python\\python310\\lib\\site-packages (from spacy<3.4.0,>=3.3.0.dev0->en-core-web-sm==3.3.0) (0.4.1)\n",
      "Requirement already satisfied: tqdm<5.0.0,>=4.38.0 in c:\\users\\way tomorrow\\appdata\\local\\programs\\python\\python310\\lib\\site-packages (from spacy<3.4.0,>=3.3.0.dev0->en-core-web-sm==3.3.0) (4.64.0)\n",
      "Requirement already satisfied: blis<0.8.0,>=0.4.0 in c:\\users\\way tomorrow\\appdata\\local\\programs\\python\\python310\\lib\\site-packages (from spacy<3.4.0,>=3.3.0.dev0->en-core-web-sm==3.3.0) (0.7.7)\n",
      "Requirement already satisfied: srsly<3.0.0,>=2.4.3 in c:\\users\\way tomorrow\\appdata\\local\\programs\\python\\python310\\lib\\site-packages (from spacy<3.4.0,>=3.3.0.dev0->en-core-web-sm==3.3.0) (2.4.3)\n",
      "Requirement already satisfied: murmurhash<1.1.0,>=0.28.0 in c:\\users\\way tomorrow\\appdata\\local\\programs\\python\\python310\\lib\\site-packages (from spacy<3.4.0,>=3.3.0.dev0->en-core-web-sm==3.3.0) (1.0.7)\n",
      "Requirement already satisfied: preshed<3.1.0,>=3.0.2 in c:\\users\\way tomorrow\\appdata\\local\\programs\\python\\python310\\lib\\site-packages (from spacy<3.4.0,>=3.3.0.dev0->en-core-web-sm==3.3.0) (3.0.6)\n",
      "Requirement already satisfied: pathy>=0.3.5 in c:\\users\\way tomorrow\\appdata\\local\\programs\\python\\python310\\lib\\site-packages (from spacy<3.4.0,>=3.3.0.dev0->en-core-web-sm==3.3.0) (0.6.1)\n",
      "Requirement already satisfied: setuptools in c:\\users\\way tomorrow\\appdata\\local\\programs\\python\\python310\\lib\\site-packages (from spacy<3.4.0,>=3.3.0.dev0->en-core-web-sm==3.3.0) (62.5.0)\n",
      "Requirement already satisfied: langcodes<4.0.0,>=3.2.0 in c:\\users\\way tomorrow\\appdata\\local\\programs\\python\\python310\\lib\\site-packages (from spacy<3.4.0,>=3.3.0.dev0->en-core-web-sm==3.3.0) (3.3.0)\n",
      "Requirement already satisfied: spacy-loggers<2.0.0,>=1.0.0 in c:\\users\\way tomorrow\\appdata\\local\\programs\\python\\python310\\lib\\site-packages (from spacy<3.4.0,>=3.3.0.dev0->en-core-web-sm==3.3.0) (1.0.2)\n",
      "Requirement already satisfied: catalogue<2.1.0,>=2.0.6 in c:\\users\\way tomorrow\\appdata\\local\\programs\\python\\python310\\lib\\site-packages (from spacy<3.4.0,>=3.3.0.dev0->en-core-web-sm==3.3.0) (2.0.7)\n",
      "Requirement already satisfied: jinja2 in c:\\users\\way tomorrow\\appdata\\local\\programs\\python\\python310\\lib\\site-packages (from spacy<3.4.0,>=3.3.0.dev0->en-core-web-sm==3.3.0) (3.1.2)\n",
      "Requirement already satisfied: requests<3.0.0,>=2.13.0 in c:\\users\\way tomorrow\\appdata\\local\\programs\\python\\python310\\lib\\site-packages (from spacy<3.4.0,>=3.3.0.dev0->en-core-web-sm==3.3.0) (2.28.0)\n",
      "Requirement already satisfied: packaging>=20.0 in c:\\users\\way tomorrow\\appdata\\local\\programs\\python\\python310\\lib\\site-packages (from spacy<3.4.0,>=3.3.0.dev0->en-core-web-sm==3.3.0) (21.3)\n",
      "Requirement already satisfied: pydantic!=1.8,!=1.8.1,<1.9.0,>=1.7.4 in c:\\users\\way tomorrow\\appdata\\local\\programs\\python\\python310\\lib\\site-packages (from spacy<3.4.0,>=3.3.0.dev0->en-core-web-sm==3.3.0) (1.8.2)\n",
      "Requirement already satisfied: pyparsing!=3.0.5,>=2.0.2 in c:\\users\\way tomorrow\\appdata\\local\\programs\\python\\python310\\lib\\site-packages (from packaging>=20.0->spacy<3.4.0,>=3.3.0.dev0->en-core-web-sm==3.3.0) (3.0.9)\n",
      "Requirement already satisfied: smart-open<6.0.0,>=5.0.0 in c:\\users\\way tomorrow\\appdata\\local\\programs\\python\\python310\\lib\\site-packages (from pathy>=0.3.5->spacy<3.4.0,>=3.3.0.dev0->en-core-web-sm==3.3.0) (5.2.1)\n",
      "Requirement already satisfied: typing-extensions>=3.7.4.3 in c:\\users\\way tomorrow\\appdata\\local\\programs\\python\\python310\\lib\\site-packages (from pydantic!=1.8,!=1.8.1,<1.9.0,>=1.7.4->spacy<3.4.0,>=3.3.0.dev0->en-core-web-sm==3.3.0) (4.2.0)\n",
      "Requirement already satisfied: urllib3<1.27,>=1.21.1 in c:\\users\\way tomorrow\\appdata\\local\\programs\\python\\python310\\lib\\site-packages (from requests<3.0.0,>=2.13.0->spacy<3.4.0,>=3.3.0.dev0->en-core-web-sm==3.3.0) (1.26.9)\n",
      "Requirement already satisfied: idna<4,>=2.5 in c:\\users\\way tomorrow\\appdata\\local\\programs\\python\\python310\\lib\\site-packages (from requests<3.0.0,>=2.13.0->spacy<3.4.0,>=3.3.0.dev0->en-core-web-sm==3.3.0) (3.3)\n",
      "Requirement already satisfied: charset-normalizer~=2.0.0 in c:\\users\\way tomorrow\\appdata\\local\\programs\\python\\python310\\lib\\site-packages (from requests<3.0.0,>=2.13.0->spacy<3.4.0,>=3.3.0.dev0->en-core-web-sm==3.3.0) (2.0.12)\n",
      "Requirement already satisfied: certifi>=2017.4.17 in c:\\users\\way tomorrow\\appdata\\local\\programs\\python\\python310\\lib\\site-packages (from requests<3.0.0,>=2.13.0->spacy<3.4.0,>=3.3.0.dev0->en-core-web-sm==3.3.0) (2022.5.18.1)\n",
      "Requirement already satisfied: colorama in c:\\users\\way tomorrow\\appdata\\local\\programs\\python\\python310\\lib\\site-packages (from tqdm<5.0.0,>=4.38.0->spacy<3.4.0,>=3.3.0.dev0->en-core-web-sm==3.3.0) (0.4.4)\n",
      "Requirement already satisfied: click<9.0.0,>=7.1.1 in c:\\users\\way tomorrow\\appdata\\local\\programs\\python\\python310\\lib\\site-packages (from typer<0.5.0,>=0.3.0->spacy<3.4.0,>=3.3.0.dev0->en-core-web-sm==3.3.0) (8.1.3)\n",
      "Requirement already satisfied: MarkupSafe>=2.0 in c:\\users\\way tomorrow\\appdata\\local\\programs\\python\\python310\\lib\\site-packages (from jinja2->spacy<3.4.0,>=3.3.0.dev0->en-core-web-sm==3.3.0) (2.1.1)\n",
      "Installing collected packages: en-core-web-sm\n",
      "Successfully installed en-core-web-sm-3.3.0\n",
      "[+] Download and installation successful\n",
      "You can now load the package via spacy.load('en_core_web_sm')\n"
     ]
    }
   ],
   "source": [
    "!python -m spacy download en_core_web_sm"
   ]
  },
  {
   "cell_type": "code",
   "execution_count": 18,
   "id": "3210bff9",
   "metadata": {},
   "outputs": [],
   "source": [
    "nlp = spacy.load(\"en_core_web_sm\")"
   ]
  },
  {
   "cell_type": "code",
   "execution_count": 19,
   "id": "f4250b09",
   "metadata": {},
   "outputs": [
    {
     "name": "stderr",
     "output_type": "stream",
     "text": [
      "[nltk_data] Downloading package stopwords to C:\\Users\\WAY\n",
      "[nltk_data]     TOMORROW\\AppData\\Roaming\\nltk_data...\n",
      "[nltk_data]   Package stopwords is already up-to-date!\n"
     ]
    },
    {
     "data": {
      "text/plain": [
       "True"
      ]
     },
     "execution_count": 19,
     "metadata": {},
     "output_type": "execute_result"
    }
   ],
   "source": [
    "nltk.download('stopwords')"
   ]
  },
  {
   "cell_type": "code",
   "execution_count": 20,
   "id": "73a0e035",
   "metadata": {},
   "outputs": [],
   "source": [
    "tokenizer = ToktokTokenizer()\n",
    "stopword_list = nltk.corpus.stopwords.words('english')\n",
    "stopword_list.remove('no')\n",
    "stopword_list.remove('not')"
   ]
  },
  {
   "cell_type": "markdown",
   "id": "6201b7ca",
   "metadata": {},
   "source": [
    "# Checking for special character"
   ]
  },
  {
   "cell_type": "code",
   "execution_count": 21,
   "id": "a1a68e82",
   "metadata": {
    "scrolled": false
   },
   "outputs": [
    {
     "name": "stdout",
     "output_type": "stream",
     "text": [
      "string have special character\n"
     ]
    },
    {
     "data": {
      "text/plain": [
       "0       Really impressed with the fastest delivery of ...\n",
       "1       This is the second time I am writing this revi...\n",
       "2       1. Quite good look2. Better noise cancellation...\n",
       "3       its a good set of ear buds but1. the quality o...\n",
       "4       I have been researching about getting a nice T...\n",
       "                              ...                        \n",
       "3645    The product of Boat is too good but Total disa...\n",
       "3646    I find too much of Bass kills the sound of oth...\n",
       "3647    Sound and bass quality is goodBut not proper w...\n",
       "3648    Awesome product delivered by Amazon and Boat. ...\n",
       "3649    yes, but some objects are nice to use and some...\n",
       "Name: Reviews, Length: 3650, dtype: object"
      ]
     },
     "execution_count": 21,
     "metadata": {},
     "output_type": "execute_result"
    }
   ],
   "source": [
    "n= product_reviews['Reviews']\n",
    "c=0\n",
    "s='[@_!#$%^&*()<>?/\\|}{~:]' # special character set\n",
    "for i in range(len(n)):\n",
    "    # checking if any special character is present in given string or not\n",
    "    if n[i] in s:\n",
    "      c+=1   # if special character found then add 1 to the c\n",
    " \n",
    " # if c value is greater than 0 then print no\n",
    "# means special character is found in string     \n",
    "if c:\n",
    "    print(\"string didn't have special character\")\n",
    "else:\n",
    "    print(\"string have special character\")\n",
    "    \n",
    "n"
   ]
  },
  {
   "cell_type": "markdown",
   "id": "e6ea9484",
   "metadata": {},
   "source": [
    "# Remove special characters set"
   ]
  },
  {
   "cell_type": "code",
   "execution_count": 22,
   "id": "a1b6d663",
   "metadata": {},
   "outputs": [
    {
     "data": {
      "text/plain": [
       "'AppData\\\\Local\\\\Tempipykernel35016623493850'"
      ]
     },
     "execution_count": 22,
     "metadata": {},
     "output_type": "execute_result"
    }
   ],
   "source": [
    "def remove_special_characters_set(text, remove_sets=False):\n",
    "    pattern = r'[@_!#$%^&*()<>?/\\|}{~:]' if not remove_sets else r'[@_!#$%^&*()<>?/\\|}{~:]'\n",
    "    text = re.sub(pattern, '' , text)\n",
    "    return text\n",
    "\n",
    "remove_special_characters_set('AppData~\\Local\\:Temp/:ipykernel(_)35016/623493850')"
   ]
  },
  {
   "cell_type": "markdown",
   "id": "7cabadc3",
   "metadata": {},
   "source": [
    "# Remove Emoji"
   ]
  },
  {
   "cell_type": "code",
   "execution_count": 23,
   "id": "f3111982",
   "metadata": {},
   "outputs": [],
   "source": [
    "def remove_emoji(product_reviews):\n",
    "    emoji_pattern = re.compile(\"[\"\n",
    "                               u\"\\U0001F600-\\U0001F64F\" \n",
    "                               u\"\\U0001F300-\\U0001F5FF\" \n",
    "                               u\"\\U0001F680-\\U0001F6FF\" \n",
    "                               u\"\\U0001F1E0-\\U0001F1FF\"  \n",
    "                               u\"\\U00002500-\\U00002BEF\" \n",
    "                               u\"\\U00002702-\\U000027B0\"\n",
    "                               u\"\\U00002702-\\U000027B0\"\n",
    "                               u\"\\U000024C2-\\U0001F251\"\n",
    "                               u\"\\U0001f926-\\U0001f937\"\n",
    "                               u\"\\U00010000-\\U0010ffff\"\n",
    "                               u\"\\u2640-\\u2642\"\n",
    "                               u\"\\u2600-\\u2B55\"\n",
    "                               u\"\\u200d\"\n",
    "                               u\"\\u23cf\"\n",
    "                               u\"\\u23e9\"\n",
    "                               u\"\\u231a\"\n",
    "                               u\"\\ufe0f\"\n",
    "                               u\"\\u3030\"\n",
    "                               \"]+\", flags=re.UNICODE)\n",
    "    return emoji_pattern.sub(r'', string)"
   ]
  },
  {
   "cell_type": "markdown",
   "id": "cd8bb150",
   "metadata": {},
   "source": [
    "# Expanding Contractions"
   ]
  },
  {
   "cell_type": "code",
   "execution_count": 24,
   "id": "cfa3a9a0",
   "metadata": {},
   "outputs": [
    {
     "data": {
      "text/plain": [
       "\"1. Quite good look2. Better noise cancellation, good base.3. Quite lighter, fixes in the ear well4. Inspite having bluetooth 5.0, Doesn't connect to two Device at same time. I had bought it to use it with my honor smart watch along with my mobile but couldn't do so.5. No charging cable, No ear buds of different size, Nothing extraa given.Can't comment on battery backup. Seemed good.\""
      ]
     },
     "execution_count": 24,
     "metadata": {},
     "output_type": "execute_result"
    }
   ],
   "source": [
    "product_reviews['Reviews'].iloc[2]"
   ]
  },
  {
   "cell_type": "code",
   "execution_count": 28,
   "id": "d74bf64f",
   "metadata": {},
   "outputs": [
    {
     "name": "stdout",
     "output_type": "stream",
     "text": [
      "Collecting contractions\n",
      "  Using cached contractions-0.1.72-py2.py3-none-any.whl (8.3 kB)\n",
      "Collecting textsearch>=0.0.21\n",
      "  Using cached textsearch-0.0.21-py2.py3-none-any.whl (7.5 kB)\n",
      "Collecting pyahocorasick\n",
      "  Downloading pyahocorasick-1.4.4-cp310-cp310-win_amd64.whl (39 kB)\n",
      "Collecting anyascii\n",
      "  Using cached anyascii-0.3.1-py3-none-any.whl (287 kB)\n",
      "Installing collected packages: pyahocorasick, anyascii, textsearch, contractions\n",
      "Successfully installed anyascii-0.3.1 contractions-0.1.72 pyahocorasick-1.4.4 textsearch-0.0.21\n"
     ]
    }
   ],
   "source": [
    "!pip install contractions"
   ]
  },
  {
   "cell_type": "code",
   "execution_count": 29,
   "id": "cd76bb21",
   "metadata": {},
   "outputs": [
    {
     "name": "stdout",
     "output_type": "stream",
     "text": [
      "Original text: 1. Quite good look2. Better noise cancellation, good base.3. Quite lighter, fixes in the ear well4. Inspite having bluetooth 5.0, Doesn't connect to two Device at same time. I had bought it to use it with my honor smart watch along with my mobile but couldn't do so.5. No charging cable, No ear buds of different size, Nothing extraa given.Can't comment on battery backup. Seemed good.\n",
      "Expanded_text: 1. Quite good look2. Better noise cancellation, good base.3. Quite lighter, fixes in the ear well4. Inspite having bluetooth 5.0, Does not connect to two Device at same time. I had bought it to use it with my honor smart watch along with my mobile but could not do so.5. No charging cable, No ear buds of different size, Nothing extraa given.Cannot comment on battery backup. Seemed good.\n"
     ]
    }
   ],
   "source": [
    "import contractions\n",
    "text = product_reviews['Reviews'].iloc[2]\n",
    "expanded_words = [] \n",
    "for word in text.split():\n",
    "  # using contractions.fix to expand the shortened words\n",
    "  expanded_words.append(contractions.fix(word))  \n",
    "\n",
    "expanded_text = ' '.join(expanded_words)\n",
    "print('Original text: ' + text)\n",
    "print('Expanded_text: ' + expanded_text)\n",
    "\n"
   ]
  },
  {
   "cell_type": "markdown",
   "id": "dfab931a",
   "metadata": {},
   "source": [
    "  # Remove HTML tags"
   ]
  },
  {
   "cell_type": "code",
   "execution_count": 30,
   "id": "81f546b6",
   "metadata": {},
   "outputs": [
    {
     "data": {
      "text/plain": [
       "'product_reviews'"
      ]
     },
     "execution_count": 30,
     "metadata": {},
     "output_type": "execute_result"
    }
   ],
   "source": [
    "def strip_html_tags(text):\n",
    "    soup = BeautifulSoup(text, \"html.parser\")\n",
    "    stripped_text = soup.get_text()\n",
    "    return stripped_text\n",
    "\n",
    "strip_html_tags('<html><h2>product_reviews</h2></html>')\n"
   ]
  },
  {
   "cell_type": "markdown",
   "id": "13be4c49",
   "metadata": {},
   "source": [
    "# Remove accented characters\n",
    "     "
   ]
  },
  {
   "cell_type": "code",
   "execution_count": 31,
   "id": "b13b4930",
   "metadata": {},
   "outputs": [
    {
     "data": {
      "text/plain": [
       "'Some Accented text'"
      ]
     },
     "execution_count": 31,
     "metadata": {},
     "output_type": "execute_result"
    }
   ],
   "source": [
    "def remove_accented_chars(text):\n",
    "    text = unicodedata.normalize('NFKD', text).encode('ascii', 'ignore').decode('utf-8', 'igonre')\n",
    "    return text\n",
    "\n",
    "remove_accented_chars('Sómě Áccěntěd těxt')"
   ]
  },
  {
   "cell_type": "markdown",
   "id": "2b5db170",
   "metadata": {},
   "source": [
    "# Remove special characters"
   ]
  },
  {
   "cell_type": "code",
   "execution_count": 32,
   "id": "2de0efc3",
   "metadata": {},
   "outputs": [
    {
     "data": {
      "text/plain": [
       "'Well this was fun what do you think '"
      ]
     },
     "execution_count": 32,
     "metadata": {},
     "output_type": "execute_result"
    }
   ],
   "source": [
    "def remove_special_characters(text, remove_digits=False):\n",
    "    pattern = r'[^a-zA-Z0-9\\s]' if not remove_digits else r'[^a-zA-Z\\s]'\n",
    "    text = re.sub(pattern, '' , text)\n",
    "    return text\n",
    "    \n",
    "remove_special_characters(\"Well this was fun! what do you think? 123#@!\", remove_digits=True)"
   ]
  },
  {
   "cell_type": "markdown",
   "id": "36ba3318",
   "metadata": {},
   "source": [
    "# Text lemmatization"
   ]
  },
  {
   "cell_type": "code",
   "execution_count": 33,
   "id": "9d954893",
   "metadata": {},
   "outputs": [
    {
     "data": {
      "text/plain": [
       "'my system keep crash ! his crash yesterday , our crash daily'"
      ]
     },
     "execution_count": 33,
     "metadata": {},
     "output_type": "execute_result"
    }
   ],
   "source": [
    "#It  uses the context in which the word is being used\n",
    "def lemmatize_text(text):\n",
    "    text = nlp(text)\n",
    "    text = ' '.join([word.lemma_ if word.lemma_ != '-PRON-' else word.text for word in text])\n",
    "    return text\n",
    "\n",
    "lemmatize_text(\"My system keeps crashing! his crashed yesterday, our crashes daily\")"
   ]
  },
  {
   "cell_type": "markdown",
   "id": "b3990c2f",
   "metadata": {},
   "source": [
    "# Text stemming"
   ]
  },
  {
   "cell_type": "code",
   "execution_count": 34,
   "id": "433a624a",
   "metadata": {},
   "outputs": [
    {
     "data": {
      "text/plain": [
       "'my system keep crash hi crash yesterday, our crash daili'"
      ]
     },
     "execution_count": 34,
     "metadata": {},
     "output_type": "execute_result"
    }
   ],
   "source": [
    "#It uses the stem of the word\n",
    "def simple_stemmer(text):\n",
    "    ps = nltk.porter.PorterStemmer()\n",
    "    text = ' '.join([ps.stem(word) for word in text.split()])\n",
    "    return text\n",
    "\n",
    "simple_stemmer(\"My system keeps crashing his crashed yesterday, ours crashes daily\")"
   ]
  },
  {
   "cell_type": "markdown",
   "id": "2d219574",
   "metadata": {},
   "source": [
    "# Remove stopwords"
   ]
  },
  {
   "cell_type": "code",
   "execution_count": 35,
   "id": "adb712c9",
   "metadata": {},
   "outputs": [
    {
     "data": {
      "text/plain": [
       "', , stopwords , Computer not'"
      ]
     },
     "execution_count": 35,
     "metadata": {},
     "output_type": "execute_result"
    }
   ],
   "source": [
    "def remove_stopwords(text, is_lower_case=False):\n",
    "    tokens = tokenizer.tokenize(text)\n",
    "    tokens = [token.strip() for token in tokens]\n",
    "    if is_lower_case:\n",
    "        filtered_tokens = [token for token in tokens if token not in stopword_list]\n",
    "    else:\n",
    "        filtered_tokens = [token for token in tokens if token.lower() not in stopword_list]\n",
    "    filtered_text = ' '.join(filtered_tokens)    \n",
    "    return filtered_text\n",
    "\n",
    "remove_stopwords(\"The, and, if are stopwords, Computer is not\")"
   ]
  },
  {
   "cell_type": "markdown",
   "id": "67a89187",
   "metadata": {},
   "source": [
    "# Building a text normalizer"
   ]
  },
  {
   "cell_type": "code",
   "execution_count": 36,
   "id": "17de8188",
   "metadata": {},
   "outputs": [],
   "source": [
    "def normalize_corpus(corpus, html_stripping=True, contraction_expansion=True,\n",
    "                     accented_char_removal=True, text_lower_case=True, \n",
    "                     text_lemmatization=True, special_char_removal=True, \n",
    "                     stopword_removal=True, remove_digits=True, remove_sets=True):\n",
    "    \n",
    "    normalized_corpus = []\n",
    "    # normalize each document in the corpus\n",
    "    for doc in corpus:\n",
    "        # strip HTML\n",
    "        if html_stripping:\n",
    "            doc = strip_html_tags(doc)\n",
    "        # remove accented characters\n",
    "        if accented_char_removal:\n",
    "            doc = remove_accented_chars(doc)\n",
    "        # remove special characters sets\n",
    "        if remove_special_characters_set:\n",
    "            doc = remove_special_characters_set(doc)\n",
    "        # lowercase the text    \n",
    "        if text_lower_case:\n",
    "            doc = doc.lower()\n",
    "        # remove extra newlines\n",
    "        doc = re.sub(r'[\\r|\\n|\\r\\n]+', ' ',doc)\n",
    "        # lemmatize text\n",
    "        if text_lemmatization:\n",
    "            doc = lemmatize_text(doc)\n",
    "        # remove special characters and\\or digits    \n",
    "        if special_char_removal:\n",
    "            # insert spaces between special characters to isolate them    \n",
    "            special_char_pattern = re.compile(r'([{.(-)!}])')\n",
    "            doc = special_char_pattern.sub(\" \\\\1 \", doc)\n",
    "            doc = remove_special_characters(doc, remove_digits=remove_digits)  \n",
    "        # remove extra whitespace\n",
    "        doc = re.sub(' +', ' ', doc)\n",
    "        # remove stopwords\n",
    "        if stopword_removal:\n",
    "            doc = remove_stopwords(doc, is_lower_case=text_lower_case)\n",
    "            \n",
    "        normalized_corpus.append(doc)\n",
    "        \n",
    "    return normalized_corpus"
   ]
  },
  {
   "cell_type": "markdown",
   "id": "8cc52458",
   "metadata": {},
   "source": [
    "# Pre-process and normalize reviews"
   ]
  },
  {
   "cell_type": "code",
   "execution_count": 37,
   "id": "ae49c98d",
   "metadata": {},
   "outputs": [],
   "source": [
    "product_reviews['full_text'] = product_reviews['Reviews']"
   ]
  },
  {
   "cell_type": "code",
   "execution_count": 38,
   "id": "31b7cd25",
   "metadata": {
    "scrolled": true
   },
   "outputs": [
    {
     "name": "stderr",
     "output_type": "stream",
     "text": [
      "C:\\Users\\WAY TOMORROW\\AppData\\Local\\Programs\\Python\\Python310\\lib\\site-packages\\bs4\\__init__.py:435: MarkupResemblesLocatorWarning: The input looks more like a filename than markup. You may want to open this file and pass the filehandle into Beautiful Soup.\n",
      "  warnings.warn(\n"
     ]
    },
    {
     "data": {
      "text/plain": [
       "{'full_text': 'This is the second time I am writing this review. Not sure why my earlier detailed review which was more like a ownership review was deleted by Amazon. Hope this review is published and not eventually deleted however this review would not be as detailed as the previous one. Purchased this product in Aug 2020 and since then had 3 replacements from Boat within a year. Each unit would last 3 to 4 months max depending upon the usage and always one or the other earpiece would die out. The left earpiece of the 3rd replacement died out 2 days back. Please note I have mostly used them during my morning jogging/running. Over all the sound quality is good and enjoy them as long as they last but the overall durability of the device is very very poor. Attaching the 3 earpiece chargers as a proof.',\n",
       " 'clean_text': 'second time I write review not sure early detailed review like ownership review delete amazon hope review publish not eventually delete however review would not detailed previous one purchase product aug since replacement boat within year unit would last month max depend upon usage always one earpiece would die left earpiece rd replacement die day back please note I mostly use morning joggingrunning sound quality good enjoy long last overall durability device poor attach earpiece charger proof'}"
      ]
     },
     "execution_count": 38,
     "metadata": {},
     "output_type": "execute_result"
    }
   ],
   "source": [
    "product_reviews['clean_text'] = normalize_corpus(product_reviews['full_text'])\n",
    "norm_corpus = list(product_reviews['clean_text'])\n",
    "product_reviews.iloc[1][['full_text', 'clean_text']].to_dict()"
   ]
  },
  {
   "cell_type": "code",
   "execution_count": 39,
   "id": "fdf9edae",
   "metadata": {},
   "outputs": [
    {
     "name": "stdout",
     "output_type": "stream",
     "text": [
      "string didn't have special character\n"
     ]
    },
    {
     "data": {
      "text/plain": [
       "0       really impressed fast delivery amazon I order ...\n",
       "1       second time I write review not sure early deta...\n",
       "2       quite good look well noise cancellation good b...\n",
       "3       good set ear bud quality sound get bad connect...\n",
       "4       I research get nice tws bud everyday use prior...\n",
       "                              ...                        \n",
       "3645    product boat good total disappointed sale serv...\n",
       "3646    I find much bass kill sound instrument people ...\n",
       "3647    sound bass quality goodbut not proper work air...\n",
       "3648    awesome product deliver amazon boat nice sound...\n",
       "3649    yes object nice use bad exchange u get well pr...\n",
       "Name: clean_text, Length: 3650, dtype: object"
      ]
     },
     "execution_count": 39,
     "metadata": {},
     "output_type": "execute_result"
    }
   ],
   "source": [
    "n= product_reviews['clean_text']\n",
    "c=0\n",
    "s='[@_!#$%^&*()<>?/\\|}{~:]' # special character set\n",
    "for i in range(len(n)):\n",
    "    # checking if any special character is present in given string or not\n",
    "    if n[i] in s:\n",
    "        c+=1   # if special character found then add 1 to the c\n",
    " \n",
    " #if c value is greater than 0 then print no\n",
    "# means special character is found in string     \n",
    "if c:\n",
    "    print(\"string didn't have special character\")\n",
    "else:\n",
    "    print(\"string have special character\")\n",
    "    \n",
    "n"
   ]
  },
  {
   "cell_type": "markdown",
   "id": "5848c9f0",
   "metadata": {},
   "source": [
    "# save the reviews"
   ]
  },
  {
   "cell_type": "code",
   "execution_count": 40,
   "id": "c5a609a2",
   "metadata": {},
   "outputs": [],
   "source": [
    "product_reviews.to_csv('product_review1.csv', index=False, encoding='utf-8')"
   ]
  },
  {
   "cell_type": "markdown",
   "id": "2f05ad68",
   "metadata": {},
   "source": [
    "# Tagging Parts of Speech"
   ]
  },
  {
   "cell_type": "code",
   "execution_count": 41,
   "id": "3a817eb3",
   "metadata": {},
   "outputs": [],
   "source": [
    "product_reviews = pd.read_csv('product_review1.csv')"
   ]
  },
  {
   "cell_type": "code",
   "execution_count": 42,
   "id": "a31c08b0",
   "metadata": {},
   "outputs": [
    {
     "name": "stderr",
     "output_type": "stream",
     "text": [
      "C:\\Users\\WAY TOMORROW\\AppData\\Local\\Programs\\Python\\Python310\\lib\\site-packages\\bs4\\__init__.py:435: MarkupResemblesLocatorWarning: The input looks more like a filename than markup. You may want to open this file and pass the filehandle into Beautiful Soup.\n",
      "  warnings.warn(\n"
     ]
    }
   ],
   "source": [
    "corpus = normalize_corpus(product_reviews['full_text'], text_lower_case=False,\n",
    "                         text_lemmatization=False, special_char_removal=False)\n",
    "\n",
    "sentence = str(product_reviews.iloc[3545].Reviews)\n",
    "sentence_nlp = nlp(sentence)"
   ]
  },
  {
   "cell_type": "code",
   "execution_count": 43,
   "id": "350fbda7",
   "metadata": {},
   "outputs": [
    {
     "data": {
      "text/html": [
       "<div>\n",
       "<style scoped>\n",
       "    .dataframe tbody tr th:only-of-type {\n",
       "        vertical-align: middle;\n",
       "    }\n",
       "\n",
       "    .dataframe tbody tr th {\n",
       "        vertical-align: top;\n",
       "    }\n",
       "\n",
       "    .dataframe thead th {\n",
       "        text-align: right;\n",
       "    }\n",
       "</style>\n",
       "<table border=\"1\" class=\"dataframe\">\n",
       "  <thead>\n",
       "    <tr style=\"text-align: right;\">\n",
       "      <th></th>\n",
       "      <th>Word</th>\n",
       "      <th>POS tag</th>\n",
       "      <th>Tag type</th>\n",
       "    </tr>\n",
       "  </thead>\n",
       "  <tbody>\n",
       "    <tr>\n",
       "      <th>0</th>\n",
       "      <td>Sound</td>\n",
       "      <td>JJ</td>\n",
       "      <td>ADJ</td>\n",
       "    </tr>\n",
       "    <tr>\n",
       "      <th>1</th>\n",
       "      <td>quality</td>\n",
       "      <td>NN</td>\n",
       "      <td>NOUN</td>\n",
       "    </tr>\n",
       "    <tr>\n",
       "      <th>2</th>\n",
       "      <td>is</td>\n",
       "      <td>VBZ</td>\n",
       "      <td>AUX</td>\n",
       "    </tr>\n",
       "    <tr>\n",
       "      <th>3</th>\n",
       "      <td>not</td>\n",
       "      <td>RB</td>\n",
       "      <td>PART</td>\n",
       "    </tr>\n",
       "    <tr>\n",
       "      <th>4</th>\n",
       "      <td>good</td>\n",
       "      <td>JJ</td>\n",
       "      <td>ADJ</td>\n",
       "    </tr>\n",
       "    <tr>\n",
       "      <th>5</th>\n",
       "      <td>it</td>\n",
       "      <td>PRP</td>\n",
       "      <td>PRON</td>\n",
       "    </tr>\n",
       "    <tr>\n",
       "      <th>6</th>\n",
       "      <td>do</td>\n",
       "      <td>VBP</td>\n",
       "      <td>AUX</td>\n",
       "    </tr>\n",
       "    <tr>\n",
       "      <th>7</th>\n",
       "      <td>n't</td>\n",
       "      <td>RB</td>\n",
       "      <td>PART</td>\n",
       "    </tr>\n",
       "    <tr>\n",
       "      <th>8</th>\n",
       "      <td>feel</td>\n",
       "      <td>VB</td>\n",
       "      <td>VERB</td>\n",
       "    </tr>\n",
       "    <tr>\n",
       "      <th>9</th>\n",
       "      <td>like</td>\n",
       "      <td>IN</td>\n",
       "      <td>ADP</td>\n",
       "    </tr>\n",
       "    <tr>\n",
       "      <th>10</th>\n",
       "      <td>music</td>\n",
       "      <td>NN</td>\n",
       "      <td>NOUN</td>\n",
       "    </tr>\n",
       "    <tr>\n",
       "      <th>11</th>\n",
       "      <td>it</td>\n",
       "      <td>PRP</td>\n",
       "      <td>PRON</td>\n",
       "    </tr>\n",
       "    <tr>\n",
       "      <th>12</th>\n",
       "      <td>seems</td>\n",
       "      <td>VBZ</td>\n",
       "      <td>VERB</td>\n",
       "    </tr>\n",
       "    <tr>\n",
       "      <th>13</th>\n",
       "      <td>like</td>\n",
       "      <td>IN</td>\n",
       "      <td>ADP</td>\n",
       "    </tr>\n",
       "    <tr>\n",
       "      <th>14</th>\n",
       "      <td>speech</td>\n",
       "      <td>NN</td>\n",
       "      <td>NOUN</td>\n",
       "    </tr>\n",
       "    <tr>\n",
       "      <th>15</th>\n",
       "      <td>you</td>\n",
       "      <td>PRP</td>\n",
       "      <td>PRON</td>\n",
       "    </tr>\n",
       "    <tr>\n",
       "      <th>16</th>\n",
       "      <td>are</td>\n",
       "      <td>VBP</td>\n",
       "      <td>AUX</td>\n",
       "    </tr>\n",
       "    <tr>\n",
       "      <th>17</th>\n",
       "      <td>hearing</td>\n",
       "      <td>VBG</td>\n",
       "      <td>VERB</td>\n",
       "    </tr>\n",
       "  </tbody>\n",
       "</table>\n",
       "</div>"
      ],
      "text/plain": [
       "       Word POS tag Tag type\n",
       "0     Sound      JJ      ADJ\n",
       "1   quality      NN     NOUN\n",
       "2        is     VBZ      AUX\n",
       "3       not      RB     PART\n",
       "4      good      JJ      ADJ\n",
       "5        it     PRP     PRON\n",
       "6        do     VBP      AUX\n",
       "7       n't      RB     PART\n",
       "8      feel      VB     VERB\n",
       "9      like      IN      ADP\n",
       "10    music      NN     NOUN\n",
       "11       it     PRP     PRON\n",
       "12    seems     VBZ     VERB\n",
       "13     like      IN      ADP\n",
       "14   speech      NN     NOUN\n",
       "15      you     PRP     PRON\n",
       "16      are     VBP      AUX\n",
       "17  hearing     VBG     VERB"
      ]
     },
     "execution_count": 43,
     "metadata": {},
     "output_type": "execute_result"
    }
   ],
   "source": [
    "spacy_pos_tagged = [(word, word.tag_, word.pos_) for word in sentence_nlp]\n",
    "pd.DataFrame(spacy_pos_tagged, columns=['Word', 'POS tag', 'Tag type'])"
   ]
  },
  {
   "cell_type": "code",
   "execution_count": 44,
   "id": "5206e820",
   "metadata": {},
   "outputs": [
    {
     "name": "stderr",
     "output_type": "stream",
     "text": [
      "[nltk_data] Downloading package punkt to C:\\Users\\WAY\n",
      "[nltk_data]     TOMORROW\\AppData\\Roaming\\nltk_data...\n",
      "[nltk_data]   Package punkt is already up-to-date!\n"
     ]
    },
    {
     "data": {
      "text/plain": [
       "True"
      ]
     },
     "execution_count": 44,
     "metadata": {},
     "output_type": "execute_result"
    }
   ],
   "source": [
    "nltk.download('punkt')"
   ]
  },
  {
   "cell_type": "code",
   "execution_count": 45,
   "id": "b3c268c4",
   "metadata": {},
   "outputs": [
    {
     "name": "stderr",
     "output_type": "stream",
     "text": [
      "[nltk_data] Downloading package maxent_treebank_pos_tagger to\n",
      "[nltk_data]     C:\\Users\\WAY TOMORROW\\AppData\\Roaming\\nltk_data...\n",
      "[nltk_data]   Package maxent_treebank_pos_tagger is already up-to-\n",
      "[nltk_data]       date!\n"
     ]
    },
    {
     "data": {
      "text/plain": [
       "True"
      ]
     },
     "execution_count": 45,
     "metadata": {},
     "output_type": "execute_result"
    }
   ],
   "source": [
    "nltk.download('maxent_treebank_pos_tagger')"
   ]
  },
  {
   "cell_type": "code",
   "execution_count": 46,
   "id": "3f93ea9a",
   "metadata": {},
   "outputs": [
    {
     "name": "stderr",
     "output_type": "stream",
     "text": [
      "[nltk_data] Downloading package averaged_perceptron_tagger to\n",
      "[nltk_data]     C:\\Users\\WAY TOMORROW\\AppData\\Roaming\\nltk_data...\n",
      "[nltk_data]   Package averaged_perceptron_tagger is already up-to-\n",
      "[nltk_data]       date!\n"
     ]
    },
    {
     "data": {
      "text/plain": [
       "True"
      ]
     },
     "execution_count": 46,
     "metadata": {},
     "output_type": "execute_result"
    }
   ],
   "source": [
    "nltk.download('averaged_perceptron_tagger')"
   ]
  },
  {
   "cell_type": "code",
   "execution_count": 47,
   "id": "2d65ba3b",
   "metadata": {},
   "outputs": [],
   "source": [
    "nltk_pos_tagged = nltk.pos_tag(sentence.split())"
   ]
  },
  {
   "cell_type": "code",
   "execution_count": 48,
   "id": "9760fb91",
   "metadata": {},
   "outputs": [
    {
     "data": {
      "text/html": [
       "<div>\n",
       "<style scoped>\n",
       "    .dataframe tbody tr th:only-of-type {\n",
       "        vertical-align: middle;\n",
       "    }\n",
       "\n",
       "    .dataframe tbody tr th {\n",
       "        vertical-align: top;\n",
       "    }\n",
       "\n",
       "    .dataframe thead th {\n",
       "        text-align: right;\n",
       "    }\n",
       "</style>\n",
       "<table border=\"1\" class=\"dataframe\">\n",
       "  <thead>\n",
       "    <tr style=\"text-align: right;\">\n",
       "      <th></th>\n",
       "      <th>Word</th>\n",
       "      <th>POS tag</th>\n",
       "    </tr>\n",
       "  </thead>\n",
       "  <tbody>\n",
       "    <tr>\n",
       "      <th>0</th>\n",
       "      <td>Sound</td>\n",
       "      <td>JJ</td>\n",
       "    </tr>\n",
       "    <tr>\n",
       "      <th>1</th>\n",
       "      <td>quality</td>\n",
       "      <td>NN</td>\n",
       "    </tr>\n",
       "    <tr>\n",
       "      <th>2</th>\n",
       "      <td>is</td>\n",
       "      <td>VBZ</td>\n",
       "    </tr>\n",
       "    <tr>\n",
       "      <th>3</th>\n",
       "      <td>not</td>\n",
       "      <td>RB</td>\n",
       "    </tr>\n",
       "    <tr>\n",
       "      <th>4</th>\n",
       "      <td>good</td>\n",
       "      <td>JJ</td>\n",
       "    </tr>\n",
       "    <tr>\n",
       "      <th>5</th>\n",
       "      <td>it</td>\n",
       "      <td>PRP</td>\n",
       "    </tr>\n",
       "    <tr>\n",
       "      <th>6</th>\n",
       "      <td>don't</td>\n",
       "      <td>VBZ</td>\n",
       "    </tr>\n",
       "    <tr>\n",
       "      <th>7</th>\n",
       "      <td>feel</td>\n",
       "      <td>VB</td>\n",
       "    </tr>\n",
       "    <tr>\n",
       "      <th>8</th>\n",
       "      <td>like</td>\n",
       "      <td>IN</td>\n",
       "    </tr>\n",
       "    <tr>\n",
       "      <th>9</th>\n",
       "      <td>music</td>\n",
       "      <td>NN</td>\n",
       "    </tr>\n",
       "    <tr>\n",
       "      <th>10</th>\n",
       "      <td>it</td>\n",
       "      <td>PRP</td>\n",
       "    </tr>\n",
       "    <tr>\n",
       "      <th>11</th>\n",
       "      <td>seems</td>\n",
       "      <td>VBZ</td>\n",
       "    </tr>\n",
       "    <tr>\n",
       "      <th>12</th>\n",
       "      <td>like</td>\n",
       "      <td>IN</td>\n",
       "    </tr>\n",
       "    <tr>\n",
       "      <th>13</th>\n",
       "      <td>speech</td>\n",
       "      <td>NN</td>\n",
       "    </tr>\n",
       "    <tr>\n",
       "      <th>14</th>\n",
       "      <td>you</td>\n",
       "      <td>PRP</td>\n",
       "    </tr>\n",
       "    <tr>\n",
       "      <th>15</th>\n",
       "      <td>are</td>\n",
       "      <td>VBP</td>\n",
       "    </tr>\n",
       "    <tr>\n",
       "      <th>16</th>\n",
       "      <td>hearing</td>\n",
       "      <td>VBG</td>\n",
       "    </tr>\n",
       "  </tbody>\n",
       "</table>\n",
       "</div>"
      ],
      "text/plain": [
       "       Word POS tag\n",
       "0     Sound      JJ\n",
       "1   quality      NN\n",
       "2        is     VBZ\n",
       "3       not      RB\n",
       "4      good      JJ\n",
       "5        it     PRP\n",
       "6     don't     VBZ\n",
       "7      feel      VB\n",
       "8      like      IN\n",
       "9     music      NN\n",
       "10       it     PRP\n",
       "11    seems     VBZ\n",
       "12     like      IN\n",
       "13   speech      NN\n",
       "14      you     PRP\n",
       "15      are     VBP\n",
       "16  hearing     VBG"
      ]
     },
     "execution_count": 48,
     "metadata": {},
     "output_type": "execute_result"
    }
   ],
   "source": [
    "pd.DataFrame(nltk_pos_tagged, columns=['Word', 'POS tag'])"
   ]
  },
  {
   "cell_type": "markdown",
   "id": "0ffe6bc0",
   "metadata": {},
   "source": [
    "# Named Entity Recognition"
   ]
  },
  {
   "cell_type": "code",
   "execution_count": 49,
   "id": "2fcc64bd",
   "metadata": {},
   "outputs": [],
   "source": [
    "sentence = str(product_reviews.iloc[1].full_text)"
   ]
  },
  {
   "cell_type": "code",
   "execution_count": 50,
   "id": "c6e4dedc",
   "metadata": {},
   "outputs": [
    {
     "data": {
      "text/plain": [
       "'This is the second time I am writing this review. Not sure why my earlier detailed review which was more like a ownership review was deleted by Amazon. Hope this review is published and not eventually deleted however this review would not be as detailed as the previous one. Purchased this product in Aug 2020 and since then had 3 replacements from Boat within a year. Each unit would last 3 to 4 months max depending upon the usage and always one or the other earpiece would die out. The left earpiece of the 3rd replacement died out 2 days back. Please note I have mostly used them during my morning jogging/running. Over all the sound quality is good and enjoy them as long as they last but the overall durability of the device is very very poor. Attaching the 3 earpiece chargers as a proof.'"
      ]
     },
     "execution_count": 50,
     "metadata": {},
     "output_type": "execute_result"
    }
   ],
   "source": [
    "sentence"
   ]
  },
  {
   "cell_type": "code",
   "execution_count": 51,
   "id": "0d5284fa",
   "metadata": {},
   "outputs": [],
   "source": [
    "sentence_nlp = nlp(sentence)"
   ]
  },
  {
   "cell_type": "code",
   "execution_count": 52,
   "id": "a8d2cb99",
   "metadata": {},
   "outputs": [
    {
     "data": {
      "text/plain": [
       "This is the second time I am writing this review. Not sure why my earlier detailed review which was more like a ownership review was deleted by Amazon. Hope this review is published and not eventually deleted however this review would not be as detailed as the previous one. Purchased this product in Aug 2020 and since then had 3 replacements from Boat within a year. Each unit would last 3 to 4 months max depending upon the usage and always one or the other earpiece would die out. The left earpiece of the 3rd replacement died out 2 days back. Please note I have mostly used them during my morning jogging/running. Over all the sound quality is good and enjoy them as long as they last but the overall durability of the device is very very poor. Attaching the 3 earpiece chargers as a proof."
      ]
     },
     "execution_count": 52,
     "metadata": {},
     "output_type": "execute_result"
    }
   ],
   "source": [
    "sentence_nlp"
   ]
  },
  {
   "cell_type": "code",
   "execution_count": 53,
   "id": "92717ee9",
   "metadata": {},
   "outputs": [
    {
     "name": "stdout",
     "output_type": "stream",
     "text": [
      "[(second, 'ORDINAL'), (Amazon, 'ORG'), (Aug, 'DATE'), (2020, 'DATE'), (Boat, 'GPE'), (a, 'DATE'), (year, 'DATE'), (last, 'DATE'), (3, 'DATE'), (to, 'DATE'), (4, 'DATE'), (months, 'DATE'), (max, 'PERSON'), (one, 'CARDINAL'), (3rd, 'ORDINAL'), (2, 'DATE'), (days, 'DATE'), (3, 'CARDINAL')]\n"
     ]
    }
   ],
   "source": [
    "print([(word, word.ent_type_) for word in sentence_nlp if word.ent_type_])"
   ]
  },
  {
   "cell_type": "code",
   "execution_count": 54,
   "id": "edc926a8",
   "metadata": {},
   "outputs": [],
   "source": [
    "named_entities = []\n",
    "for sentence in corpus:\n",
    "    temp_entity_name = ''\n",
    "    temp_named_entity = None\n",
    "    sentence = nlp(sentence)\n",
    "    for word in sentence:\n",
    "        term = word.text\n",
    "        tag = word.ent_type_\n",
    "        if tag:\n",
    "            temp_entity_name = ' '.join([temp_entity_name, term]).strip()\n",
    "            temp_named_entity = (temp_entity_name, tag)\n",
    "        else:\n",
    "            if temp_named_entity:\n",
    "                named_entities.append(temp_named_entity)\n",
    "                temp_entity_name = ''\n",
    "                temp_named_entity = None\n",
    "\n",
    "entity_frame = pd.DataFrame(named_entities,\n",
    "                            columns=['Entity Name', 'Entity Type'])        \n",
    "        \n",
    "            "
   ]
  },
  {
   "cell_type": "code",
   "execution_count": 55,
   "id": "f5fe77f1",
   "metadata": {
    "scrolled": true
   },
   "outputs": [
    {
     "data": {
      "text/html": [
       "<div>\n",
       "<style scoped>\n",
       "    .dataframe tbody tr th:only-of-type {\n",
       "        vertical-align: middle;\n",
       "    }\n",
       "\n",
       "    .dataframe tbody tr th {\n",
       "        vertical-align: top;\n",
       "    }\n",
       "\n",
       "    .dataframe thead th {\n",
       "        text-align: right;\n",
       "    }\n",
       "</style>\n",
       "<table border=\"1\" class=\"dataframe\">\n",
       "  <thead>\n",
       "    <tr style=\"text-align: right;\">\n",
       "      <th></th>\n",
       "      <th>0</th>\n",
       "      <th>1</th>\n",
       "      <th>2</th>\n",
       "      <th>3</th>\n",
       "      <th>4</th>\n",
       "      <th>5</th>\n",
       "      <th>6</th>\n",
       "      <th>7</th>\n",
       "      <th>8</th>\n",
       "      <th>9</th>\n",
       "      <th>10</th>\n",
       "      <th>11</th>\n",
       "      <th>12</th>\n",
       "      <th>13</th>\n",
       "      <th>14</th>\n",
       "    </tr>\n",
       "  </thead>\n",
       "  <tbody>\n",
       "    <tr>\n",
       "      <th>Entity Name</th>\n",
       "      <td>one</td>\n",
       "      <td>Amazon</td>\n",
       "      <td>441</td>\n",
       "      <td>first</td>\n",
       "      <td>Bass</td>\n",
       "      <td>TWS</td>\n",
       "      <td>Boat</td>\n",
       "      <td>1</td>\n",
       "      <td>One</td>\n",
       "      <td>2</td>\n",
       "      <td>3</td>\n",
       "      <td>second</td>\n",
       "      <td>two</td>\n",
       "      <td>5</td>\n",
       "      <td>First</td>\n",
       "    </tr>\n",
       "    <tr>\n",
       "      <th>Entity Type</th>\n",
       "      <td>CARDINAL</td>\n",
       "      <td>ORG</td>\n",
       "      <td>CARDINAL</td>\n",
       "      <td>ORDINAL</td>\n",
       "      <td>PERSON</td>\n",
       "      <td>ORG</td>\n",
       "      <td>PERSON</td>\n",
       "      <td>CARDINAL</td>\n",
       "      <td>CARDINAL</td>\n",
       "      <td>CARDINAL</td>\n",
       "      <td>CARDINAL</td>\n",
       "      <td>ORDINAL</td>\n",
       "      <td>CARDINAL</td>\n",
       "      <td>CARDINAL</td>\n",
       "      <td>ORDINAL</td>\n",
       "    </tr>\n",
       "    <tr>\n",
       "      <th>Frequency</th>\n",
       "      <td>618</td>\n",
       "      <td>210</td>\n",
       "      <td>207</td>\n",
       "      <td>197</td>\n",
       "      <td>134</td>\n",
       "      <td>111</td>\n",
       "      <td>110</td>\n",
       "      <td>108</td>\n",
       "      <td>107</td>\n",
       "      <td>103</td>\n",
       "      <td>85</td>\n",
       "      <td>79</td>\n",
       "      <td>77</td>\n",
       "      <td>76</td>\n",
       "      <td>60</td>\n",
       "    </tr>\n",
       "  </tbody>\n",
       "</table>\n",
       "</div>"
      ],
      "text/plain": [
       "                   0       1         2        3       4    5       6   \\\n",
       "Entity Name       one  Amazon       441    first    Bass  TWS    Boat   \n",
       "Entity Type  CARDINAL     ORG  CARDINAL  ORDINAL  PERSON  ORG  PERSON   \n",
       "Frequency         618     210       207      197     134  111     110   \n",
       "\n",
       "                   7         8         9         10       11        12  \\\n",
       "Entity Name         1       One         2         3   second       two   \n",
       "Entity Type  CARDINAL  CARDINAL  CARDINAL  CARDINAL  ORDINAL  CARDINAL   \n",
       "Frequency         108       107       103        85       79        77   \n",
       "\n",
       "                   13       14  \n",
       "Entity Name         5    First  \n",
       "Entity Type  CARDINAL  ORDINAL  \n",
       "Frequency          76       60  "
      ]
     },
     "execution_count": 55,
     "metadata": {},
     "output_type": "execute_result"
    }
   ],
   "source": [
    "top_entities = (entity_frame.groupby(by=['Entity Name', 'Entity Type'])\n",
    "                            .size()\n",
    "                            .sort_values(ascending=False)\n",
    "                            .reset_index().rename(columns={0 : 'Frequency'}))\n",
    "top_entities.T.iloc[:,:15]"
   ]
  },
  {
   "cell_type": "code",
   "execution_count": 56,
   "id": "77ab17fb",
   "metadata": {},
   "outputs": [
    {
     "data": {
      "text/html": [
       "<div>\n",
       "<style scoped>\n",
       "    .dataframe tbody tr th:only-of-type {\n",
       "        vertical-align: middle;\n",
       "    }\n",
       "\n",
       "    .dataframe tbody tr th {\n",
       "        vertical-align: top;\n",
       "    }\n",
       "\n",
       "    .dataframe thead th {\n",
       "        text-align: right;\n",
       "    }\n",
       "</style>\n",
       "<table border=\"1\" class=\"dataframe\">\n",
       "  <thead>\n",
       "    <tr style=\"text-align: right;\">\n",
       "      <th></th>\n",
       "      <th>0</th>\n",
       "      <th>1</th>\n",
       "      <th>2</th>\n",
       "      <th>3</th>\n",
       "      <th>4</th>\n",
       "      <th>5</th>\n",
       "      <th>6</th>\n",
       "      <th>7</th>\n",
       "      <th>8</th>\n",
       "      <th>9</th>\n",
       "      <th>10</th>\n",
       "      <th>11</th>\n",
       "      <th>12</th>\n",
       "      <th>13</th>\n",
       "      <th>14</th>\n",
       "    </tr>\n",
       "  </thead>\n",
       "  <tbody>\n",
       "    <tr>\n",
       "      <th>Entity Type</th>\n",
       "      <td>CARDINAL</td>\n",
       "      <td>DATE</td>\n",
       "      <td>ORG</td>\n",
       "      <td>PERSON</td>\n",
       "      <td>TIME</td>\n",
       "      <td>ORDINAL</td>\n",
       "      <td>GPE</td>\n",
       "      <td>NORP</td>\n",
       "      <td>QUANTITY</td>\n",
       "      <td>PRODUCT</td>\n",
       "      <td>PERCENT</td>\n",
       "      <td>LOC</td>\n",
       "      <td>WORK_OF_ART</td>\n",
       "      <td>MONEY</td>\n",
       "      <td>FAC</td>\n",
       "    </tr>\n",
       "    <tr>\n",
       "      <th>Frequency</th>\n",
       "      <td>2692</td>\n",
       "      <td>1758</td>\n",
       "      <td>1202</td>\n",
       "      <td>799</td>\n",
       "      <td>553</td>\n",
       "      <td>442</td>\n",
       "      <td>303</td>\n",
       "      <td>108</td>\n",
       "      <td>98</td>\n",
       "      <td>91</td>\n",
       "      <td>37</td>\n",
       "      <td>31</td>\n",
       "      <td>27</td>\n",
       "      <td>19</td>\n",
       "      <td>13</td>\n",
       "    </tr>\n",
       "  </tbody>\n",
       "</table>\n",
       "</div>"
      ],
      "text/plain": [
       "                   0     1     2       3     4        5    6     7         8   \\\n",
       "Entity Type  CARDINAL  DATE   ORG  PERSON  TIME  ORDINAL  GPE  NORP  QUANTITY   \n",
       "Frequency        2692  1758  1202     799   553      442  303   108        98   \n",
       "\n",
       "                  9        10   11           12     13   14  \n",
       "Entity Type  PRODUCT  PERCENT  LOC  WORK_OF_ART  MONEY  FAC  \n",
       "Frequency         91       37   31           27     19   13  "
      ]
     },
     "execution_count": 56,
     "metadata": {},
     "output_type": "execute_result"
    }
   ],
   "source": [
    "top_entities = (entity_frame.groupby(by=['Entity Type'])\n",
    "                           .size()\n",
    "                           .sort_values(ascending=False)\n",
    "                           .reset_index().rename(columns={0 : 'Frequency'}))\n",
    "top_entities.T.iloc[:,:15]"
   ]
  },
  {
   "cell_type": "markdown",
   "id": "d5c00172",
   "metadata": {},
   "source": [
    "# Emotion and Sentiment Analysis"
   ]
  },
  {
   "cell_type": "code",
   "execution_count": 58,
   "id": "59531caf",
   "metadata": {},
   "outputs": [
    {
     "name": "stdout",
     "output_type": "stream",
     "text": [
      "Collecting afinn\n",
      "  Using cached afinn-0.1.tar.gz (52 kB)\n",
      "  Preparing metadata (setup.py): started\n",
      "  Preparing metadata (setup.py): finished with status 'done'\n",
      "Building wheels for collected packages: afinn\n",
      "  Building wheel for afinn (setup.py): started\n",
      "  Building wheel for afinn (setup.py): finished with status 'done'\n",
      "  Created wheel for afinn: filename=afinn-0.1-py3-none-any.whl size=53431 sha256=7c0b574012b4c5d24702fe437481b0cf3db0d8c430af52b08851d8f9756391bb\n",
      "  Stored in directory: c:\\users\\way tomorrow\\appdata\\local\\pip\\cache\\wheels\\b0\\05\\90\\43f79196199a138fb486902fceca30a2d1b5228e6d2db8eb90\n",
      "Successfully built afinn\n",
      "Installing collected packages: afinn\n",
      "Successfully installed afinn-0.1\n"
     ]
    }
   ],
   "source": [
    "!pip install afinn"
   ]
  },
  {
   "cell_type": "code",
   "execution_count": 59,
   "id": "9982153c",
   "metadata": {},
   "outputs": [],
   "source": [
    "from afinn import Afinn"
   ]
  },
  {
   "cell_type": "code",
   "execution_count": 60,
   "id": "2043d750",
   "metadata": {},
   "outputs": [],
   "source": [
    "af = Afinn()"
   ]
  },
  {
   "cell_type": "code",
   "execution_count": 61,
   "id": "b051d0fa",
   "metadata": {},
   "outputs": [],
   "source": [
    "sentiment_scores = [af.score(review_body) for review_body in corpus]"
   ]
  },
  {
   "cell_type": "code",
   "execution_count": 62,
   "id": "cf922f7d",
   "metadata": {
    "scrolled": true
   },
   "outputs": [],
   "source": [
    "sentiment_category = ['positive' if score > 0\n",
    "                          else 'negative' if score < 0\n",
    "                             else 'neutral'\n",
    "                                 for score in sentiment_scores]"
   ]
  },
  {
   "cell_type": "code",
   "execution_count": 63,
   "id": "7d68f814",
   "metadata": {},
   "outputs": [],
   "source": [
    "df = pd.DataFrame([list(product_reviews['Reviews']), sentiment_scores, sentiment_category]).T"
   ]
  },
  {
   "cell_type": "code",
   "execution_count": 64,
   "id": "598770b5",
   "metadata": {},
   "outputs": [],
   "source": [
    "df.columns = ['Reviews','sentiment_score', 'sentiment_category']"
   ]
  },
  {
   "cell_type": "code",
   "execution_count": 65,
   "id": "c0695dc1",
   "metadata": {},
   "outputs": [],
   "source": [
    "df['sentiment_score'] = df.sentiment_score.astype('float')"
   ]
  },
  {
   "cell_type": "code",
   "execution_count": 66,
   "id": "101670d8",
   "metadata": {},
   "outputs": [
    {
     "data": {
      "text/plain": [
       "(3650, 3)"
      ]
     },
     "execution_count": 66,
     "metadata": {},
     "output_type": "execute_result"
    }
   ],
   "source": [
    "product_reviews.shape"
   ]
  },
  {
   "cell_type": "code",
   "execution_count": 67,
   "id": "50e9a052",
   "metadata": {
    "scrolled": false
   },
   "outputs": [
    {
     "data": {
      "text/html": [
       "<div>\n",
       "<style scoped>\n",
       "    .dataframe tbody tr th:only-of-type {\n",
       "        vertical-align: middle;\n",
       "    }\n",
       "\n",
       "    .dataframe tbody tr th {\n",
       "        vertical-align: top;\n",
       "    }\n",
       "\n",
       "    .dataframe thead tr th {\n",
       "        text-align: left;\n",
       "    }\n",
       "\n",
       "    .dataframe thead tr:last-of-type th {\n",
       "        text-align: right;\n",
       "    }\n",
       "</style>\n",
       "<table border=\"1\" class=\"dataframe\">\n",
       "  <thead>\n",
       "    <tr>\n",
       "      <th></th>\n",
       "      <th colspan=\"8\" halign=\"left\">sentiment_score</th>\n",
       "    </tr>\n",
       "    <tr>\n",
       "      <th></th>\n",
       "      <th>count</th>\n",
       "      <th>mean</th>\n",
       "      <th>std</th>\n",
       "      <th>min</th>\n",
       "      <th>25%</th>\n",
       "      <th>50%</th>\n",
       "      <th>75%</th>\n",
       "      <th>max</th>\n",
       "    </tr>\n",
       "    <tr>\n",
       "      <th>Reviews</th>\n",
       "      <th></th>\n",
       "      <th></th>\n",
       "      <th></th>\n",
       "      <th></th>\n",
       "      <th></th>\n",
       "      <th></th>\n",
       "      <th></th>\n",
       "      <th></th>\n",
       "    </tr>\n",
       "  </thead>\n",
       "  <tbody>\n",
       "    <tr>\n",
       "      <th>within a week the right earbud stop charging. Bangalore has only one autorized service center which is 25kms from my place. Banded over to service center and they need 15 days to replace. further the pod does not sit properly in the charger.. poor quality control.</th>\n",
       "      <td>1.0</td>\n",
       "      <td>-1.0</td>\n",
       "      <td>NaN</td>\n",
       "      <td>-1.0</td>\n",
       "      <td>-1.0</td>\n",
       "      <td>-1.0</td>\n",
       "      <td>-1.0</td>\n",
       "      <td>-1.0</td>\n",
       "    </tr>\n",
       "    <tr>\n",
       "      <th>yeah as i mentioned the bass of the airdopes are good but you cant hear vocals  at regular volume that you actually hear on other wired earphones you have to go higher than suggested hearing limit ,seamlessly connects with any of the devices but i recommend to go with other airdopes if you wanna have a better sound experience priorly vocals</th>\n",
       "      <td>1.0</td>\n",
       "      <td>10.0</td>\n",
       "      <td>NaN</td>\n",
       "      <td>10.0</td>\n",
       "      <td>10.0</td>\n",
       "      <td>10.0</td>\n",
       "      <td>10.0</td>\n",
       "      <td>10.0</td>\n",
       "    </tr>\n",
       "    <tr>\n",
       "      <th>yes, but some objects are nice to use and some are worst....exchange until u get better product. but the product is nice. nice noise cancellation, little voice, medium bass, high battery, charge ur case once in a week</th>\n",
       "      <td>1.0</td>\n",
       "      <td>9.0</td>\n",
       "      <td>NaN</td>\n",
       "      <td>9.0</td>\n",
       "      <td>9.0</td>\n",
       "      <td>9.0</td>\n",
       "      <td>9.0</td>\n",
       "      <td>9.0</td>\n",
       "    </tr>\n",
       "    <tr>\n",
       "      <th>बैटरी बैकअप भी उतना ज्यादा नहीं है और सुस्ती सी मोबाइल से कनेक्ट करने पर या दूर जाने पर पर डिस्कनेक्ट हुआ था 7 दिन से जब मैं अभी ब्लूटूथ से मोबाइल से कनेक्ट कर रहा हूं तो यह वॉइस क्वालिटी आ ही नहीं रहा है जो कि जब लेकिन जब मीडिया से कनेक्ट कर रहा हूं तो बाकी सब और साउंड क्वॉलिटी वीडियो क्वॉलिटी आ रहा है लेकिन वॉइस का ही नहीं रहा है बहुत ही बहुत ही निम्न क्वालिटी है इसका लेना ही बहुत पछतावा होगा</th>\n",
       "      <td>1.0</td>\n",
       "      <td>0.0</td>\n",
       "      <td>NaN</td>\n",
       "      <td>0.0</td>\n",
       "      <td>0.0</td>\n",
       "      <td>0.0</td>\n",
       "      <td>0.0</td>\n",
       "      <td>0.0</td>\n",
       "    </tr>\n",
       "    <tr>\n",
       "      <th>मेरे साथ Fraude हुआ हैमैंने इस product को खरीदा, product अच्छी नहीं थी जिसके कारण मैंने इस product को वापस करने के लिए Request किया। Amazon ने इसे return करने के लिए स्वीकार कर लिया और अपने Delivery Boy को भेजा । वो product delevey Boy ले तो गया मगर, Product ना तो Amazon को मिला है और ना ही मेरे पास है....बहुत-बहुत contact किया Amazon को मगर आज तक मुझे refund नहीं मिला।Please do the needful.</th>\n",
       "      <td>1.0</td>\n",
       "      <td>1.0</td>\n",
       "      <td>NaN</td>\n",
       "      <td>1.0</td>\n",
       "      <td>1.0</td>\n",
       "      <td>1.0</td>\n",
       "      <td>1.0</td>\n",
       "      <td>1.0</td>\n",
       "    </tr>\n",
       "    <tr>\n",
       "      <th>• Sound quality perfect• mic very poor quality ,when sending a voice msg its make more noise than our voice also problem while calling</th>\n",
       "      <td>1.0</td>\n",
       "      <td>3.0</td>\n",
       "      <td>NaN</td>\n",
       "      <td>3.0</td>\n",
       "      <td>3.0</td>\n",
       "      <td>3.0</td>\n",
       "      <td>3.0</td>\n",
       "      <td>3.0</td>\n",
       "    </tr>\n",
       "    <tr>\n",
       "      <th>✓Sound quality perfect 9/10( best sound experience during dolby Atmos activated)✓Good Bass 10/10 ( if feeling more than use Equalizer )✓connectivity also great, i had connected 4 devices and it connects smoothly✓ Noise cancellation not on upper side but its okay at this price range✓ Till now no issue related to calling✓ Overall great product. Go for it</th>\n",
       "      <td>1.0</td>\n",
       "      <td>14.0</td>\n",
       "      <td>NaN</td>\n",
       "      <td>14.0</td>\n",
       "      <td>14.0</td>\n",
       "      <td>14.0</td>\n",
       "      <td>14.0</td>\n",
       "      <td>14.0</td>\n",
       "    </tr>\n",
       "    <tr>\n",
       "      <th>👉🏻 The best Truly wireless earbuds you can get in the market.👉🏻Much better compared to all the competition👉🏻It's good for day to day useThe bluetooth pairing is instant👉🏻You can hear every sound crystal clear👉🏻Noice cancellation is at top tier you can barely hear anything around you👉🏻Bass is legendary👉🏻Touch controls make it much easier for shifting tracks / pausing👉🏻Charging speed is super fast👉🏻 Another plus side is that you can use the case as a powerbank(how it's not recommended to do so until emergency)👉🏻 Conclusion: Best earbuds for this price point</th>\n",
       "      <td>1.0</td>\n",
       "      <td>16.0</td>\n",
       "      <td>NaN</td>\n",
       "      <td>16.0</td>\n",
       "      <td>16.0</td>\n",
       "      <td>16.0</td>\n",
       "      <td>16.0</td>\n",
       "      <td>16.0</td>\n",
       "    </tr>\n",
       "    <tr>\n",
       "      <th>🟢 Very easy to use. One of the best things is that they provided buds of different sizes.🔴 They don't control volume so one has to keep the device near to them. For voice calls they are decent enough. When wore for more than an hour they hurt my ears.</th>\n",
       "      <td>1.0</td>\n",
       "      <td>2.0</td>\n",
       "      <td>NaN</td>\n",
       "      <td>2.0</td>\n",
       "      <td>2.0</td>\n",
       "      <td>2.0</td>\n",
       "      <td>2.0</td>\n",
       "      <td>2.0</td>\n",
       "    </tr>\n",
       "    <tr>\n",
       "      <th>🥳Price is reasonable but still it doesn't have nosie cancellation . Except nosie cancellation everything is fine i am satisfied with this product ☺️. Has a very good connectivity i.e it has good range and fast pairing</th>\n",
       "      <td>1.0</td>\n",
       "      <td>10.0</td>\n",
       "      <td>NaN</td>\n",
       "      <td>10.0</td>\n",
       "      <td>10.0</td>\n",
       "      <td>10.0</td>\n",
       "      <td>10.0</td>\n",
       "      <td>10.0</td>\n",
       "    </tr>\n",
       "  </tbody>\n",
       "</table>\n",
       "</div>"
      ],
      "text/plain": [
       "                                                   sentiment_score            \\\n",
       "                                                             count  mean std   \n",
       "Reviews                                                                        \n",
       "within a week the right earbud stop charging. B...             1.0  -1.0 NaN   \n",
       "yeah as i mentioned the bass of the airdopes ar...             1.0  10.0 NaN   \n",
       "yes, but some objects are nice to use and some ...             1.0   9.0 NaN   \n",
       "बैटरी बैकअप भी उतना ज्यादा नहीं है और सुस्ती सी...             1.0   0.0 NaN   \n",
       "मेरे साथ Fraude हुआ हैमैंने इस product को खरीदा...             1.0   1.0 NaN   \n",
       "• Sound quality perfect• mic very poor quality ...             1.0   3.0 NaN   \n",
       "✓Sound quality perfect 9/10( best sound experie...             1.0  14.0 NaN   \n",
       "👉🏻 The best Truly wireless earbuds you can get ...             1.0  16.0 NaN   \n",
       "🟢 Very easy to use. One of the best things is t...             1.0   2.0 NaN   \n",
       "🥳Price is reasonable but still it doesn't have ...             1.0  10.0 NaN   \n",
       "\n",
       "                                                                            \\\n",
       "                                                     min   25%   50%   75%   \n",
       "Reviews                                                                      \n",
       "within a week the right earbud stop charging. B...  -1.0  -1.0  -1.0  -1.0   \n",
       "yeah as i mentioned the bass of the airdopes ar...  10.0  10.0  10.0  10.0   \n",
       "yes, but some objects are nice to use and some ...   9.0   9.0   9.0   9.0   \n",
       "बैटरी बैकअप भी उतना ज्यादा नहीं है और सुस्ती सी...   0.0   0.0   0.0   0.0   \n",
       "मेरे साथ Fraude हुआ हैमैंने इस product को खरीदा...   1.0   1.0   1.0   1.0   \n",
       "• Sound quality perfect• mic very poor quality ...   3.0   3.0   3.0   3.0   \n",
       "✓Sound quality perfect 9/10( best sound experie...  14.0  14.0  14.0  14.0   \n",
       "👉🏻 The best Truly wireless earbuds you can get ...  16.0  16.0  16.0  16.0   \n",
       "🟢 Very easy to use. One of the best things is t...   2.0   2.0   2.0   2.0   \n",
       "🥳Price is reasonable but still it doesn't have ...  10.0  10.0  10.0  10.0   \n",
       "\n",
       "                                                          \n",
       "                                                     max  \n",
       "Reviews                                                   \n",
       "within a week the right earbud stop charging. B...  -1.0  \n",
       "yeah as i mentioned the bass of the airdopes ar...  10.0  \n",
       "yes, but some objects are nice to use and some ...   9.0  \n",
       "बैटरी बैकअप भी उतना ज्यादा नहीं है और सुस्ती सी...   0.0  \n",
       "मेरे साथ Fraude हुआ हैमैंने इस product को खरीदा...   1.0  \n",
       "• Sound quality perfect• mic very poor quality ...   3.0  \n",
       "✓Sound quality perfect 9/10( best sound experie...  14.0  \n",
       "👉🏻 The best Truly wireless earbuds you can get ...  16.0  \n",
       "🟢 Very easy to use. One of the best things is t...   2.0  \n",
       "🥳Price is reasonable but still it doesn't have ...  10.0  "
      ]
     },
     "execution_count": 67,
     "metadata": {},
     "output_type": "execute_result"
    }
   ],
   "source": [
    "df.groupby(by=['Reviews']).describe().tail(10)"
   ]
  },
  {
   "cell_type": "code",
   "execution_count": 68,
   "id": "3633bcd3",
   "metadata": {},
   "outputs": [
    {
     "data": {
      "text/html": [
       "<div>\n",
       "<style scoped>\n",
       "    .dataframe tbody tr th:only-of-type {\n",
       "        vertical-align: middle;\n",
       "    }\n",
       "\n",
       "    .dataframe tbody tr th {\n",
       "        vertical-align: top;\n",
       "    }\n",
       "\n",
       "    .dataframe thead th {\n",
       "        text-align: right;\n",
       "    }\n",
       "</style>\n",
       "<table border=\"1\" class=\"dataframe\">\n",
       "  <thead>\n",
       "    <tr style=\"text-align: right;\">\n",
       "      <th></th>\n",
       "      <th>Reviews</th>\n",
       "      <th>sentiment_score</th>\n",
       "      <th>sentiment_category</th>\n",
       "    </tr>\n",
       "  </thead>\n",
       "  <tbody>\n",
       "    <tr>\n",
       "      <th>230</th>\n",
       "      <td>UPDATE: Sept 21It's been more than a year usin...</td>\n",
       "      <td>39.0</td>\n",
       "      <td>positive</td>\n",
       "    </tr>\n",
       "    <tr>\n",
       "      <th>212</th>\n",
       "      <td>Worth waiting as I ordered it on 8 August, Fre...</td>\n",
       "      <td>40.0</td>\n",
       "      <td>positive</td>\n",
       "    </tr>\n",
       "    <tr>\n",
       "      <th>167</th>\n",
       "      <td>If you are a bass lover then go  for it, bass ...</td>\n",
       "      <td>41.0</td>\n",
       "      <td>positive</td>\n",
       "    </tr>\n",
       "    <tr>\n",
       "      <th>141</th>\n",
       "      <td>So, I had tempered my expectations from this p...</td>\n",
       "      <td>42.0</td>\n",
       "      <td>positive</td>\n",
       "    </tr>\n",
       "    <tr>\n",
       "      <th>334</th>\n",
       "      <td>This airdopes is just amazing for its price. S...</td>\n",
       "      <td>42.0</td>\n",
       "      <td>positive</td>\n",
       "    </tr>\n",
       "    <tr>\n",
       "      <th>125</th>\n",
       "      <td>I knew I wanted Boats this time but which one?...</td>\n",
       "      <td>42.0</td>\n",
       "      <td>positive</td>\n",
       "    </tr>\n",
       "    <tr>\n",
       "      <th>541</th>\n",
       "      <td>These earbuds are MARVELOUS, Like before these...</td>\n",
       "      <td>43.0</td>\n",
       "      <td>positive</td>\n",
       "    </tr>\n",
       "    <tr>\n",
       "      <th>565</th>\n",
       "      <td>Long story short - I'm lovin it.Got myself a B...</td>\n",
       "      <td>45.0</td>\n",
       "      <td>positive</td>\n",
       "    </tr>\n",
       "    <tr>\n",
       "      <th>46</th>\n",
       "      <td>Just bought this boat 441 two days back. Here ...</td>\n",
       "      <td>49.0</td>\n",
       "      <td>positive</td>\n",
       "    </tr>\n",
       "    <tr>\n",
       "      <th>16</th>\n",
       "      <td>If you are a fan of bass like I am, hell, you ...</td>\n",
       "      <td>82.0</td>\n",
       "      <td>positive</td>\n",
       "    </tr>\n",
       "  </tbody>\n",
       "</table>\n",
       "</div>"
      ],
      "text/plain": [
       "                                               Reviews  sentiment_score  \\\n",
       "230  UPDATE: Sept 21It's been more than a year usin...             39.0   \n",
       "212  Worth waiting as I ordered it on 8 August, Fre...             40.0   \n",
       "167  If you are a bass lover then go  for it, bass ...             41.0   \n",
       "141  So, I had tempered my expectations from this p...             42.0   \n",
       "334  This airdopes is just amazing for its price. S...             42.0   \n",
       "125  I knew I wanted Boats this time but which one?...             42.0   \n",
       "541  These earbuds are MARVELOUS, Like before these...             43.0   \n",
       "565  Long story short - I'm lovin it.Got myself a B...             45.0   \n",
       "46   Just bought this boat 441 two days back. Here ...             49.0   \n",
       "16   If you are a fan of bass like I am, hell, you ...             82.0   \n",
       "\n",
       "    sentiment_category  \n",
       "230           positive  \n",
       "212           positive  \n",
       "167           positive  \n",
       "141           positive  \n",
       "334           positive  \n",
       "125           positive  \n",
       "541           positive  \n",
       "565           positive  \n",
       "46            positive  \n",
       "16            positive  "
      ]
     },
     "execution_count": 68,
     "metadata": {},
     "output_type": "execute_result"
    }
   ],
   "source": [
    "df.sort_values(by='sentiment_score').tail(10)"
   ]
  },
  {
   "cell_type": "code",
   "execution_count": 69,
   "id": "28d356ec",
   "metadata": {},
   "outputs": [
    {
     "data": {
      "text/plain": [
       "positive    2646\n",
       "negative     791\n",
       "neutral      213\n",
       "Name: sentiment_category, dtype: int64"
      ]
     },
     "execution_count": 69,
     "metadata": {},
     "output_type": "execute_result"
    }
   ],
   "source": [
    "df['sentiment_category'].value_counts()"
   ]
  },
  {
   "cell_type": "code",
   "execution_count": 70,
   "id": "735610e8",
   "metadata": {},
   "outputs": [
    {
     "data": {
      "text/html": [
       "<div>\n",
       "<style scoped>\n",
       "    .dataframe tbody tr th:only-of-type {\n",
       "        vertical-align: middle;\n",
       "    }\n",
       "\n",
       "    .dataframe tbody tr th {\n",
       "        vertical-align: top;\n",
       "    }\n",
       "\n",
       "    .dataframe thead th {\n",
       "        text-align: right;\n",
       "    }\n",
       "</style>\n",
       "<table border=\"1\" class=\"dataframe\">\n",
       "  <thead>\n",
       "    <tr style=\"text-align: right;\">\n",
       "      <th></th>\n",
       "      <th>Reviews</th>\n",
       "      <th>sentiment_score</th>\n",
       "      <th>sentiment_category</th>\n",
       "    </tr>\n",
       "  </thead>\n",
       "  <tbody>\n",
       "    <tr>\n",
       "      <th>0</th>\n",
       "      <td>Really impressed with the fastest delivery of ...</td>\n",
       "      <td>16.0</td>\n",
       "      <td>positive</td>\n",
       "    </tr>\n",
       "    <tr>\n",
       "      <th>1</th>\n",
       "      <td>This is the second time I am writing this revi...</td>\n",
       "      <td>4.0</td>\n",
       "      <td>positive</td>\n",
       "    </tr>\n",
       "    <tr>\n",
       "      <th>2</th>\n",
       "      <td>1. Quite good look2. Better noise cancellation...</td>\n",
       "      <td>12.0</td>\n",
       "      <td>positive</td>\n",
       "    </tr>\n",
       "    <tr>\n",
       "      <th>3</th>\n",
       "      <td>its a good set of ear buds but1. the quality o...</td>\n",
       "      <td>5.0</td>\n",
       "      <td>positive</td>\n",
       "    </tr>\n",
       "    <tr>\n",
       "      <th>4</th>\n",
       "      <td>I have been researching about getting a nice T...</td>\n",
       "      <td>35.0</td>\n",
       "      <td>positive</td>\n",
       "    </tr>\n",
       "    <tr>\n",
       "      <th>...</th>\n",
       "      <td>...</td>\n",
       "      <td>...</td>\n",
       "      <td>...</td>\n",
       "    </tr>\n",
       "    <tr>\n",
       "      <th>3639</th>\n",
       "      <td>After searching for too many TWS finally I bou...</td>\n",
       "      <td>4.0</td>\n",
       "      <td>positive</td>\n",
       "    </tr>\n",
       "    <tr>\n",
       "      <th>3640</th>\n",
       "      <td>The casing is little boxy but still okay to ca...</td>\n",
       "      <td>8.0</td>\n",
       "      <td>positive</td>\n",
       "    </tr>\n",
       "    <tr>\n",
       "      <th>3647</th>\n",
       "      <td>Sound and bass quality is goodBut not proper w...</td>\n",
       "      <td>2.0</td>\n",
       "      <td>positive</td>\n",
       "    </tr>\n",
       "    <tr>\n",
       "      <th>3648</th>\n",
       "      <td>Awesome product delivered by Amazon and Boat. ...</td>\n",
       "      <td>9.0</td>\n",
       "      <td>positive</td>\n",
       "    </tr>\n",
       "    <tr>\n",
       "      <th>3649</th>\n",
       "      <td>yes, but some objects are nice to use and some...</td>\n",
       "      <td>9.0</td>\n",
       "      <td>positive</td>\n",
       "    </tr>\n",
       "  </tbody>\n",
       "</table>\n",
       "<p>2646 rows × 3 columns</p>\n",
       "</div>"
      ],
      "text/plain": [
       "                                                Reviews  sentiment_score  \\\n",
       "0     Really impressed with the fastest delivery of ...             16.0   \n",
       "1     This is the second time I am writing this revi...              4.0   \n",
       "2     1. Quite good look2. Better noise cancellation...             12.0   \n",
       "3     its a good set of ear buds but1. the quality o...              5.0   \n",
       "4     I have been researching about getting a nice T...             35.0   \n",
       "...                                                 ...              ...   \n",
       "3639  After searching for too many TWS finally I bou...              4.0   \n",
       "3640  The casing is little boxy but still okay to ca...              8.0   \n",
       "3647  Sound and bass quality is goodBut not proper w...              2.0   \n",
       "3648  Awesome product delivered by Amazon and Boat. ...              9.0   \n",
       "3649  yes, but some objects are nice to use and some...              9.0   \n",
       "\n",
       "     sentiment_category  \n",
       "0              positive  \n",
       "1              positive  \n",
       "2              positive  \n",
       "3              positive  \n",
       "4              positive  \n",
       "...                 ...  \n",
       "3639           positive  \n",
       "3640           positive  \n",
       "3647           positive  \n",
       "3648           positive  \n",
       "3649           positive  \n",
       "\n",
       "[2646 rows x 3 columns]"
      ]
     },
     "execution_count": 70,
     "metadata": {},
     "output_type": "execute_result"
    }
   ],
   "source": [
    "df[(df.sentiment_category=='positive') & (df.sentiment_score > 0)]"
   ]
  },
  {
   "cell_type": "code",
   "execution_count": 71,
   "id": "2a3af206",
   "metadata": {},
   "outputs": [
    {
     "data": {
      "text/html": [
       "<div>\n",
       "<style scoped>\n",
       "    .dataframe tbody tr th:only-of-type {\n",
       "        vertical-align: middle;\n",
       "    }\n",
       "\n",
       "    .dataframe tbody tr th {\n",
       "        vertical-align: top;\n",
       "    }\n",
       "\n",
       "    .dataframe thead th {\n",
       "        text-align: right;\n",
       "    }\n",
       "</style>\n",
       "<table border=\"1\" class=\"dataframe\">\n",
       "  <thead>\n",
       "    <tr style=\"text-align: right;\">\n",
       "      <th></th>\n",
       "      <th>Reviews</th>\n",
       "      <th>sentiment_score</th>\n",
       "      <th>sentiment_category</th>\n",
       "    </tr>\n",
       "  </thead>\n",
       "  <tbody>\n",
       "    <tr>\n",
       "      <th>5</th>\n",
       "      <td>I received the product with some defect. The l...</td>\n",
       "      <td>-8.0</td>\n",
       "      <td>negative</td>\n",
       "    </tr>\n",
       "    <tr>\n",
       "      <th>6</th>\n",
       "      <td>Boat AirDopes, have by far been the most champ...</td>\n",
       "      <td>-8.0</td>\n",
       "      <td>negative</td>\n",
       "    </tr>\n",
       "    <tr>\n",
       "      <th>7</th>\n",
       "      <td>Worst product plz don't buy it you will regret...</td>\n",
       "      <td>-8.0</td>\n",
       "      <td>negative</td>\n",
       "    </tr>\n",
       "    <tr>\n",
       "      <th>11</th>\n",
       "      <td>Honest review after replacing the first assumi...</td>\n",
       "      <td>-7.0</td>\n",
       "      <td>negative</td>\n",
       "    </tr>\n",
       "    <tr>\n",
       "      <th>12</th>\n",
       "      <td>defective left ear piece. Cracking sound on st...</td>\n",
       "      <td>-12.0</td>\n",
       "      <td>negative</td>\n",
       "    </tr>\n",
       "    <tr>\n",
       "      <th>...</th>\n",
       "      <td>...</td>\n",
       "      <td>...</td>\n",
       "      <td>...</td>\n",
       "    </tr>\n",
       "    <tr>\n",
       "      <th>3642</th>\n",
       "      <td>Im really disappointed as the sound quality is...</td>\n",
       "      <td>-8.0</td>\n",
       "      <td>negative</td>\n",
       "    </tr>\n",
       "    <tr>\n",
       "      <th>3643</th>\n",
       "      <td>If you want to use it for music or video it is...</td>\n",
       "      <td>-2.0</td>\n",
       "      <td>negative</td>\n",
       "    </tr>\n",
       "    <tr>\n",
       "      <th>3644</th>\n",
       "      <td>It's bad call function stops working, firstly ...</td>\n",
       "      <td>-7.0</td>\n",
       "      <td>negative</td>\n",
       "    </tr>\n",
       "    <tr>\n",
       "      <th>3645</th>\n",
       "      <td>The product of Boat is too good but Total disa...</td>\n",
       "      <td>-3.0</td>\n",
       "      <td>negative</td>\n",
       "    </tr>\n",
       "    <tr>\n",
       "      <th>3646</th>\n",
       "      <td>I find too much of Bass kills the sound of oth...</td>\n",
       "      <td>-1.0</td>\n",
       "      <td>negative</td>\n",
       "    </tr>\n",
       "  </tbody>\n",
       "</table>\n",
       "<p>791 rows × 3 columns</p>\n",
       "</div>"
      ],
      "text/plain": [
       "                                                Reviews  sentiment_score  \\\n",
       "5     I received the product with some defect. The l...             -8.0   \n",
       "6     Boat AirDopes, have by far been the most champ...             -8.0   \n",
       "7     Worst product plz don't buy it you will regret...             -8.0   \n",
       "11    Honest review after replacing the first assumi...             -7.0   \n",
       "12    defective left ear piece. Cracking sound on st...            -12.0   \n",
       "...                                                 ...              ...   \n",
       "3642  Im really disappointed as the sound quality is...             -8.0   \n",
       "3643  If you want to use it for music or video it is...             -2.0   \n",
       "3644  It's bad call function stops working, firstly ...             -7.0   \n",
       "3645  The product of Boat is too good but Total disa...             -3.0   \n",
       "3646  I find too much of Bass kills the sound of oth...             -1.0   \n",
       "\n",
       "     sentiment_category  \n",
       "5              negative  \n",
       "6              negative  \n",
       "7              negative  \n",
       "11             negative  \n",
       "12             negative  \n",
       "...                 ...  \n",
       "3642           negative  \n",
       "3643           negative  \n",
       "3644           negative  \n",
       "3645           negative  \n",
       "3646           negative  \n",
       "\n",
       "[791 rows x 3 columns]"
      ]
     },
     "execution_count": 71,
     "metadata": {},
     "output_type": "execute_result"
    }
   ],
   "source": [
    "df[(df.sentiment_category=='negative') & (df.sentiment_score < 0)]"
   ]
  },
  {
   "cell_type": "code",
   "execution_count": 72,
   "id": "be320331",
   "metadata": {},
   "outputs": [
    {
     "data": {
      "text/html": [
       "<div>\n",
       "<style scoped>\n",
       "    .dataframe tbody tr th:only-of-type {\n",
       "        vertical-align: middle;\n",
       "    }\n",
       "\n",
       "    .dataframe tbody tr th {\n",
       "        vertical-align: top;\n",
       "    }\n",
       "\n",
       "    .dataframe thead th {\n",
       "        text-align: right;\n",
       "    }\n",
       "</style>\n",
       "<table border=\"1\" class=\"dataframe\">\n",
       "  <thead>\n",
       "    <tr style=\"text-align: right;\">\n",
       "      <th></th>\n",
       "      <th>Reviews</th>\n",
       "      <th>sentiment_score</th>\n",
       "      <th>sentiment_category</th>\n",
       "    </tr>\n",
       "  </thead>\n",
       "  <tbody>\n",
       "    <tr>\n",
       "      <th>25</th>\n",
       "      <td>Boat airdopes 441 pro model is having an issue...</td>\n",
       "      <td>0.0</td>\n",
       "      <td>neutral</td>\n",
       "    </tr>\n",
       "    <tr>\n",
       "      <th>26</th>\n",
       "      <td>Please avoid buying this as there is a constan...</td>\n",
       "      <td>0.0</td>\n",
       "      <td>neutral</td>\n",
       "    </tr>\n",
       "    <tr>\n",
       "      <th>27</th>\n",
       "      <td>There is a static noise in left ear bud.</td>\n",
       "      <td>0.0</td>\n",
       "      <td>neutral</td>\n",
       "    </tr>\n",
       "    <tr>\n",
       "      <th>37</th>\n",
       "      <td>Music quality is average but the calling quali...</td>\n",
       "      <td>0.0</td>\n",
       "      <td>neutral</td>\n",
       "    </tr>\n",
       "    <tr>\n",
       "      <th>39</th>\n",
       "      <td>The good:+ Connection is alright+ Build qualit...</td>\n",
       "      <td>0.0</td>\n",
       "      <td>neutral</td>\n",
       "    </tr>\n",
       "    <tr>\n",
       "      <th>...</th>\n",
       "      <td>...</td>\n",
       "      <td>...</td>\n",
       "      <td>...</td>\n",
       "    </tr>\n",
       "    <tr>\n",
       "      <th>3588</th>\n",
       "      <td>Microphone quality is very poor cannot be used...</td>\n",
       "      <td>0.0</td>\n",
       "      <td>neutral</td>\n",
       "    </tr>\n",
       "    <tr>\n",
       "      <th>3593</th>\n",
       "      <td>Made in China product, quality is not that goo...</td>\n",
       "      <td>0.0</td>\n",
       "      <td>neutral</td>\n",
       "    </tr>\n",
       "    <tr>\n",
       "      <th>3620</th>\n",
       "      <td>getting issue with media sound..not getting so...</td>\n",
       "      <td>0.0</td>\n",
       "      <td>neutral</td>\n",
       "    </tr>\n",
       "    <tr>\n",
       "      <th>3634</th>\n",
       "      <td>Everything was good untill it was workingNow t...</td>\n",
       "      <td>0.0</td>\n",
       "      <td>neutral</td>\n",
       "    </tr>\n",
       "    <tr>\n",
       "      <th>3641</th>\n",
       "      <td>Worst product of my life, when i use boat aird...</td>\n",
       "      <td>0.0</td>\n",
       "      <td>neutral</td>\n",
       "    </tr>\n",
       "  </tbody>\n",
       "</table>\n",
       "<p>213 rows × 3 columns</p>\n",
       "</div>"
      ],
      "text/plain": [
       "                                                Reviews  sentiment_score  \\\n",
       "25    Boat airdopes 441 pro model is having an issue...              0.0   \n",
       "26    Please avoid buying this as there is a constan...              0.0   \n",
       "27             There is a static noise in left ear bud.              0.0   \n",
       "37    Music quality is average but the calling quali...              0.0   \n",
       "39    The good:+ Connection is alright+ Build qualit...              0.0   \n",
       "...                                                 ...              ...   \n",
       "3588  Microphone quality is very poor cannot be used...              0.0   \n",
       "3593  Made in China product, quality is not that goo...              0.0   \n",
       "3620  getting issue with media sound..not getting so...              0.0   \n",
       "3634  Everything was good untill it was workingNow t...              0.0   \n",
       "3641  Worst product of my life, when i use boat aird...              0.0   \n",
       "\n",
       "     sentiment_category  \n",
       "25              neutral  \n",
       "26              neutral  \n",
       "27              neutral  \n",
       "37              neutral  \n",
       "39              neutral  \n",
       "...                 ...  \n",
       "3588            neutral  \n",
       "3593            neutral  \n",
       "3620            neutral  \n",
       "3634            neutral  \n",
       "3641            neutral  \n",
       "\n",
       "[213 rows x 3 columns]"
      ]
     },
     "execution_count": 72,
     "metadata": {},
     "output_type": "execute_result"
    }
   ],
   "source": [
    "df[(df.sentiment_category=='neutral') & (df.sentiment_score == 0)]"
   ]
  },
  {
   "cell_type": "markdown",
   "id": "1be840ff",
   "metadata": {},
   "source": [
    "# Visualizing Reviews Sentiment"
   ]
  },
  {
   "cell_type": "code",
   "execution_count": 74,
   "id": "f2588298",
   "metadata": {},
   "outputs": [
    {
     "name": "stdout",
     "output_type": "stream",
     "text": [
      "Collecting seaborn\n",
      "  Downloading seaborn-0.11.2-py3-none-any.whl (292 kB)\n",
      "     ------------------------------------ 292.8/292.8 kB 142.4 kB/s eta 0:00:00\n",
      "Collecting scipy>=1.0\n",
      "  Using cached scipy-1.8.1-cp310-cp310-win_amd64.whl (36.9 MB)\n",
      "Requirement already satisfied: pandas>=0.23 in c:\\users\\way tomorrow\\appdata\\local\\programs\\python\\python310\\lib\\site-packages (from seaborn) (1.4.2)\n",
      "Requirement already satisfied: matplotlib>=2.2 in c:\\users\\way tomorrow\\appdata\\local\\programs\\python\\python310\\lib\\site-packages (from seaborn) (3.5.2)\n",
      "Requirement already satisfied: numpy>=1.15 in c:\\users\\way tomorrow\\appdata\\local\\programs\\python\\python310\\lib\\site-packages (from seaborn) (1.22.4)\n",
      "Requirement already satisfied: pillow>=6.2.0 in c:\\users\\way tomorrow\\appdata\\local\\programs\\python\\python310\\lib\\site-packages (from matplotlib>=2.2->seaborn) (9.1.1)\n",
      "Requirement already satisfied: fonttools>=4.22.0 in c:\\users\\way tomorrow\\appdata\\local\\programs\\python\\python310\\lib\\site-packages (from matplotlib>=2.2->seaborn) (4.33.3)\n",
      "Requirement already satisfied: pyparsing>=2.2.1 in c:\\users\\way tomorrow\\appdata\\local\\programs\\python\\python310\\lib\\site-packages (from matplotlib>=2.2->seaborn) (3.0.9)\n",
      "Requirement already satisfied: cycler>=0.10 in c:\\users\\way tomorrow\\appdata\\local\\programs\\python\\python310\\lib\\site-packages (from matplotlib>=2.2->seaborn) (0.11.0)\n",
      "Requirement already satisfied: kiwisolver>=1.0.1 in c:\\users\\way tomorrow\\appdata\\local\\programs\\python\\python310\\lib\\site-packages (from matplotlib>=2.2->seaborn) (1.4.3)\n",
      "Requirement already satisfied: python-dateutil>=2.7 in c:\\users\\way tomorrow\\appdata\\local\\programs\\python\\python310\\lib\\site-packages (from matplotlib>=2.2->seaborn) (2.8.2)\n",
      "Requirement already satisfied: packaging>=20.0 in c:\\users\\way tomorrow\\appdata\\local\\programs\\python\\python310\\lib\\site-packages (from matplotlib>=2.2->seaborn) (21.3)\n",
      "Requirement already satisfied: pytz>=2020.1 in c:\\users\\way tomorrow\\appdata\\local\\programs\\python\\python310\\lib\\site-packages (from pandas>=0.23->seaborn) (2022.1)\n",
      "Requirement already satisfied: six>=1.5 in c:\\users\\way tomorrow\\appdata\\local\\programs\\python\\python310\\lib\\site-packages (from python-dateutil>=2.7->matplotlib>=2.2->seaborn) (1.16.0)\n",
      "Installing collected packages: scipy, seaborn\n",
      "Successfully installed scipy-1.8.1 seaborn-0.11.2\n"
     ]
    }
   ],
   "source": [
    "!pip install seaborn"
   ]
  },
  {
   "cell_type": "code",
   "execution_count": 75,
   "id": "19b29869",
   "metadata": {},
   "outputs": [
    {
     "data": {
      "image/png": "[encoded data removed]",
      "text/plain": [
       "<Figure size 1008x1008 with 2 Axes>"
      ]
     },
     "metadata": {
      "needs_background": "light"
     },
     "output_type": "display_data"
    }
   ],
   "source": [
    "import matplotlib.pyplot as plt\n",
    "import seaborn as sns\n",
    "f, (ax1, ax2) = plt.subplots(1, 2, figsize=(14, 14))\n",
    "sp = sns.stripplot(x='sentiment_category', y=\"sentiment_score\", hue='sentiment_category', data=df, ax=ax1)\n",
    "bp = sns.boxplot(x='sentiment_category', y=\"sentiment_score\", hue='sentiment_category', data=df, palette=\"Set2\", ax=ax2)\n",
    "t = f.suptitle('Visualizing Reviews Sentiment', fontsize=14)"
   ]
  },
  {
   "cell_type": "code",
   "execution_count": 76,
   "id": "fd552651",
   "metadata": {},
   "outputs": [
    {
     "data": {
      "image/png": "[encoded data removed]",
      "text/plain": [
       "<Figure size 432x288 with 1 Axes>"
      ]
     },
     "metadata": {},
     "output_type": "display_data"
    }
   ],
   "source": [
    "#define data\n",
    "data = [2646, 791, 213]\n",
    "labels = ['positive', 'negative', 'neutral']\n",
    "\n",
    "#define Seaborn color palette to use\n",
    "colors = sns.color_palette('pastel')[0:5]\n",
    "\n",
    "#create pie chart\n",
    "plt.pie(data, labels = labels, colors = colors, autopct='%.0f%%')\n",
    "plt.show()"
   ]
  },
  {
   "cell_type": "markdown",
   "id": "77000cf3",
   "metadata": {},
   "source": [
    "# Word Cloud"
   ]
  },
  {
   "cell_type": "code",
   "execution_count": 77,
   "id": "27933a00",
   "metadata": {},
   "outputs": [],
   "source": [
    "from wordcloud import WordCloud"
   ]
  },
  {
   "cell_type": "code",
   "execution_count": 81,
   "id": "13b39c28",
   "metadata": {},
   "outputs": [
    {
     "data": {
      "text/html": [
       "<div>\n",
       "<style scoped>\n",
       "    .dataframe tbody tr th:only-of-type {\n",
       "        vertical-align: middle;\n",
       "    }\n",
       "\n",
       "    .dataframe tbody tr th {\n",
       "        vertical-align: top;\n",
       "    }\n",
       "\n",
       "    .dataframe thead th {\n",
       "        text-align: right;\n",
       "    }\n",
       "</style>\n",
       "<table border=\"1\" class=\"dataframe\">\n",
       "  <thead>\n",
       "    <tr style=\"text-align: right;\">\n",
       "      <th></th>\n",
       "      <th>Reviews</th>\n",
       "      <th>sentiment_score</th>\n",
       "      <th>sentiment_category</th>\n",
       "    </tr>\n",
       "  </thead>\n",
       "  <tbody>\n",
       "    <tr>\n",
       "      <th>0</th>\n",
       "      <td>Really impressed with the fastest delivery of ...</td>\n",
       "      <td>16.0</td>\n",
       "      <td>positive</td>\n",
       "    </tr>\n",
       "    <tr>\n",
       "      <th>1</th>\n",
       "      <td>This is the second time I am writing this revi...</td>\n",
       "      <td>4.0</td>\n",
       "      <td>positive</td>\n",
       "    </tr>\n",
       "    <tr>\n",
       "      <th>2</th>\n",
       "      <td>1. Quite good look2. Better noise cancellation...</td>\n",
       "      <td>12.0</td>\n",
       "      <td>positive</td>\n",
       "    </tr>\n",
       "    <tr>\n",
       "      <th>3</th>\n",
       "      <td>its a good set of ear buds but1. the quality o...</td>\n",
       "      <td>5.0</td>\n",
       "      <td>positive</td>\n",
       "    </tr>\n",
       "    <tr>\n",
       "      <th>4</th>\n",
       "      <td>I have been researching about getting a nice T...</td>\n",
       "      <td>35.0</td>\n",
       "      <td>positive</td>\n",
       "    </tr>\n",
       "  </tbody>\n",
       "</table>\n",
       "</div>"
      ],
      "text/plain": [
       "                                             Reviews  sentiment_score  \\\n",
       "0  Really impressed with the fastest delivery of ...             16.0   \n",
       "1  This is the second time I am writing this revi...              4.0   \n",
       "2  1. Quite good look2. Better noise cancellation...             12.0   \n",
       "3  its a good set of ear buds but1. the quality o...              5.0   \n",
       "4  I have been researching about getting a nice T...             35.0   \n",
       "\n",
       "  sentiment_category  \n",
       "0           positive  \n",
       "1           positive  \n",
       "2           positive  \n",
       "3           positive  \n",
       "4           positive  "
      ]
     },
     "execution_count": 81,
     "metadata": {},
     "output_type": "execute_result"
    }
   ],
   "source": [
    "df.head()"
   ]
  },
  {
   "cell_type": "code",
   "execution_count": 82,
   "id": "a33f60ef",
   "metadata": {
    "scrolled": true
   },
   "outputs": [
    {
     "data": {
      "image/png": "[encoded data removed]",
      "text/plain": [
       "<Figure size 1440x720 with 1 Axes>"
      ]
     },
     "metadata": {},
     "output_type": "display_data"
    }
   ],
   "source": [
    "wc = WordCloud()\n",
    "wc.generate(str(df['Reviews']))\n",
    "plt.figure(figsize=(20,10), facecolor='k')\n",
    "plt.title(\"Most frequent words in SMS dataset\", fontsize=40,color='white')\n",
    "plt.imshow(wc)\n",
    "plt.show()"
   ]
  },
  {
   "cell_type": "code",
   "execution_count": 84,
   "id": "eaf9e05e",
   "metadata": {
    "scrolled": true
   },
   "outputs": [
    {
     "name": "stdout",
     "output_type": "stream",
     "text": [
      "Collecting textblob\n",
      "  Using cached textblob-0.17.1-py2.py3-none-any.whl (636 kB)\n",
      "Requirement already satisfied: nltk>=3.1 in c:\\users\\way tomorrow\\appdata\\local\\programs\\python\\python310\\lib\\site-packages (from textblob) (3.7)\n",
      "Requirement already satisfied: regex>=2021.8.3 in c:\\users\\way tomorrow\\appdata\\local\\programs\\python\\python310\\lib\\site-packages (from nltk>=3.1->textblob) (2022.6.2)\n",
      "Requirement already satisfied: tqdm in c:\\users\\way tomorrow\\appdata\\local\\programs\\python\\python310\\lib\\site-packages (from nltk>=3.1->textblob) (4.64.0)\n",
      "Requirement already satisfied: click in c:\\users\\way tomorrow\\appdata\\local\\programs\\python\\python310\\lib\\site-packages (from nltk>=3.1->textblob) (8.1.3)\n",
      "Requirement already satisfied: joblib in c:\\users\\way tomorrow\\appdata\\local\\programs\\python\\python310\\lib\\site-packages (from nltk>=3.1->textblob) (1.1.0)\n",
      "Requirement already satisfied: colorama in c:\\users\\way tomorrow\\appdata\\local\\programs\\python\\python310\\lib\\site-packages (from click->nltk>=3.1->textblob) (0.4.4)\n",
      "Installing collected packages: textblob\n",
      "Successfully installed textblob-0.17.1\n"
     ]
    }
   ],
   "source": [
    "!pip install textblob"
   ]
  },
  {
   "cell_type": "markdown",
   "id": "f4f60a33",
   "metadata": {},
   "source": [
    "# Sentiment calculation"
   ]
  },
  {
   "cell_type": "code",
   "execution_count": 85,
   "id": "126cc23a",
   "metadata": {},
   "outputs": [],
   "source": [
    "from textblob import TextBlob"
   ]
  },
  {
   "cell_type": "code",
   "execution_count": 92,
   "id": "5965f00d",
   "metadata": {},
   "outputs": [],
   "source": [
    "text = \"• Sound quality perfect• mic very poor quality ,when sending a voice msg its make more noise than our voice also problem while calling\""
   ]
  },
  {
   "cell_type": "code",
   "execution_count": 93,
   "id": "94b768ec",
   "metadata": {},
   "outputs": [
    {
     "data": {
      "text/plain": [
       "0.12666666666666668"
      ]
     },
     "execution_count": 93,
     "metadata": {},
     "output_type": "execute_result"
    }
   ],
   "source": [
    "result = TextBlob(text)\n",
    "result.sentiment.polarity"
   ]
  },
  {
   "cell_type": "markdown",
   "id": "2ac40f95",
   "metadata": {},
   "source": [
    "# Classification"
   ]
  },
  {
   "cell_type": "code",
   "execution_count": null,
   "id": "fb5d6d26",
   "metadata": {},
   "outputs": [],
   "source": []
  }
 ],
 "metadata": {
  "kernelspec": {
   "display_name": "Python 3 (ipykernel)",
   "language": "python",
   "name": "python3"
  },
  "language_info": {
   "codemirror_mode": {
    "name": "ipython",
    "version": 3
   },
   "file_extension": ".py",
   "mimetype": "text/x-python",
   "name": "python",
   "nbconvert_exporter": "python",
   "pygments_lexer": "ipython3",
   "version": "3.10.0"
  }
 },
 "nbformat": 4,
 "nbformat_minor": 5
}
